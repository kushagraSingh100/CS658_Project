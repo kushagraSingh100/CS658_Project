{
 "cells": [
  {
   "cell_type": "code",
   "execution_count": 2,
   "id": "8e6b08af-7862-46d9-bc40-25f4ebaddcbf",
   "metadata": {},
   "outputs": [],
   "source": [
    "#Importing the libraries\n",
    "import numpy as np\n",
    "import pandas as pd\n",
    "from math import isnan\n",
    "import ast\n",
    "import re"
   ]
  },
  {
   "cell_type": "code",
   "execution_count": 3,
   "id": "bff21e0f-f4d7-486f-94a0-e2b7bd160a55",
   "metadata": {},
   "outputs": [],
   "source": [
    "#code for basic data preparation (This does not fully convert data in suitable required format)\n",
    "def convert_data(input_string):\n",
    "    modified_string = re.sub(r\"defaultdict\\(.*?\\)\", lambda x: f\"'{x.group()}'\", input_string)\n",
    "    modified_string = modified_string.replace(\"'\", '\"') \n",
    "    modified_string = modified_string.replace(\"b'\", '\"')\n",
    "    items = []\n",
    "    buffer = ''\n",
    "    open_brackets = 0\n",
    "\n",
    "    for char in modified_string:\n",
    "        if char in '([{':\n",
    "            open_brackets += 1\n",
    "        if char in ')]}':\n",
    "            open_brackets -= 1\n",
    "        if char == ',' and open_brackets == 0:\n",
    "            items.append(buffer.strip())\n",
    "            buffer = ''\n",
    "        else:\n",
    "            buffer += char\n",
    "    if buffer:\n",
    "        items.append(buffer.strip())\n",
    "    \n",
    "    converted_list = []\n",
    "    for item in items:\n",
    "        try:\n",
    "            converted_list.append(ast.literal_eval(item))\n",
    "        except (ValueError, SyntaxError):\n",
    "            converted_list.append(item)\n",
    "\n",
    "    return converted_list"
   ]
  },
  {
   "cell_type": "markdown",
   "id": "64df2226-1425-4f80-a304-631cc40f4b38",
   "metadata": {},
   "source": [
    "# Malware"
   ]
  },
  {
   "cell_type": "code",
   "execution_count": 4,
   "id": "f9fae1f6-ffb7-4e24-b4cc-9900c98d216e",
   "metadata": {},
   "outputs": [],
   "source": [
    "with open(\"CSV_malware.csv\", 'r') as file:\n",
    "    lines = file.readlines()\n",
    "header = convert_data(lines[0])"
   ]
  },
  {
   "cell_type": "code",
   "execution_count": 5,
   "id": "c7e78742-e8bd-48db-9c71-5199bdbb00db",
   "metadata": {},
   "outputs": [],
   "source": [
    "column_order = header\n",
    "column_order[0] = 'Country_Name'"
   ]
  },
  {
   "cell_type": "code",
   "execution_count": 6,
   "id": "9eb2251d-b510-4ebe-b5f2-b3528bec26e5",
   "metadata": {},
   "outputs": [],
   "source": [
    "processed_data = []\n",
    "for line in lines[1:]:\n",
    "    processed_row = convert_data(line)\n",
    "    processed_data.append(processed_row)"
   ]
  },
  {
   "cell_type": "code",
   "execution_count": 7,
   "id": "68629b0c-353e-4a3e-93bc-2547af1a3293",
   "metadata": {},
   "outputs": [
    {
     "data": {
      "text/plain": [
       "(2235, 1593, 1173)"
      ]
     },
     "execution_count": 7,
     "metadata": {},
     "output_type": "execute_result"
    }
   ],
   "source": [
    "list_length_39 = []\n",
    "list_length_38 = []\n",
    "list_other_lengths = []\n",
    "\n",
    "for sublist in processed_data:\n",
    "    if len(sublist) == 39:\n",
    "        list_length_39.append(sublist)\n",
    "    elif len(sublist) == 38:\n",
    "        list_length_38.append(sublist)\n",
    "    else:\n",
    "        list_other_lengths.append(sublist)\n",
    "        \n",
    "len(list_other_lengths), len(list_length_39) , len(list_length_38)"
   ]
  },
  {
   "cell_type": "code",
   "execution_count": 8,
   "id": "085844c7-9918-4044-8751-1c5b32aa6d78",
   "metadata": {},
   "outputs": [],
   "source": [
    "for i in range(len(list_length_39)):\n",
    "    del list_length_39[i][14]\n",
    "\n",
    "for sublist in list_length_39:\n",
    "    assert len(sublist) == 38, f\"List at index {list_length_39.index(sublist)} does not have length 38\""
   ]
  },
  {
   "cell_type": "code",
   "execution_count": 9,
   "id": "d07d347d-194b-47a6-b01b-eb7cacf9640a",
   "metadata": {},
   "outputs": [],
   "source": [
    "for sublist in list_other_lengths:\n",
    "    if isinstance(sublist[-6], str) and isinstance(sublist[-7], str):\n",
    "        sublist[-7] = sublist[-7] + sublist[-6]\n",
    "        del sublist[-6]\n",
    "\n",
    "list_other_lengths = [sublist for sublist in list_other_lengths if len(sublist) != 38 or list_length_38.append(sublist)]\n"
   ]
  },
  {
   "cell_type": "code",
   "execution_count": 10,
   "id": "20a10de0-33d5-4d65-ab5c-695dda6d9dd4",
   "metadata": {},
   "outputs": [
    {
     "data": {
      "text/plain": [
       "(2235, 1593, 1173)"
      ]
     },
     "execution_count": 10,
     "metadata": {},
     "output_type": "execute_result"
    }
   ],
   "source": [
    "len(list_other_lengths), len(list_length_39) , len(list_length_38)"
   ]
  },
  {
   "cell_type": "code",
   "execution_count": 11,
   "id": "ed96e191-a06f-4700-9d85-420dceee61ff",
   "metadata": {},
   "outputs": [],
   "source": [
    "expected_types = [str, float, int, str, bytes, int, str, (str, list), int, int, str, str, int, str]\n",
    "for sublist in list_other_lengths:\n",
    "    if all(isinstance(sublist[i], expected_types[i]) for i in range(14)):\n",
    "        del sublist[14]\n",
    "list_other_lengths = [sublist for sublist in list_other_lengths if len(sublist) != 38 or list_length_38.append(sublist)]"
   ]
  },
  {
   "cell_type": "code",
   "execution_count": 12,
   "id": "5f68c77c-8f2d-4102-9d94-d80c16496946",
   "metadata": {},
   "outputs": [
    {
     "data": {
      "text/plain": [
       "(843, 1593, 2565)"
      ]
     },
     "execution_count": 12,
     "metadata": {},
     "output_type": "execute_result"
    }
   ],
   "source": [
    "len(list_other_lengths), len(list_length_39) , len(list_length_38)"
   ]
  },
  {
   "cell_type": "code",
   "execution_count": 13,
   "id": "2862a068-6c4a-4ff1-b53b-138df3ddce27",
   "metadata": {},
   "outputs": [],
   "source": [
    "expected_types = [str, str, int, str, bytes, int, str, (str, list), int, int, str, str, int, str]\n",
    "for sublist in list_other_lengths:\n",
    "    if all(isinstance(sublist[i], expected_types[i]) for i in range(14)):\n",
    "        del sublist[14]\n",
    "list_other_lengths = [sublist for sublist in list_other_lengths if len(sublist) != 38 or list_length_38.append(sublist)]"
   ]
  },
  {
   "cell_type": "code",
   "execution_count": 14,
   "id": "bd1351d0-ee42-4be1-a8d1-edfb7b89ed79",
   "metadata": {},
   "outputs": [
    {
     "data": {
      "text/plain": [
       "(516, 1593, 2892)"
      ]
     },
     "execution_count": 14,
     "metadata": {},
     "output_type": "execute_result"
    }
   ],
   "source": [
    "len(list_other_lengths), len(list_length_39) , len(list_length_38)"
   ]
  },
  {
   "cell_type": "code",
   "execution_count": 15,
   "id": "a9e8425a-6e61-4307-8fa9-afdd66ad6e50",
   "metadata": {},
   "outputs": [],
   "source": [
    "keywords = ['LLC Privacy ID# 14409419', 'S.A. DE C.V.', 'ltd.', 'Ltd', 'INC.', 'LLC Privacy ID# 12761418',\n",
    "    'LLC Privacy ID# 7259l17', 'Ltd.', 'LTD.', 'LLC Privacy ID# 841802', 'S.L.',\n",
    "    'LLC (PrivacyProtect.org)', 'Corp', 'LLC', 'Inc.','Inc - This domain might be for sale on GoDaddy.com or Sedo.com','Lda']"
   ]
  },
  {
   "cell_type": "code",
   "execution_count": 16,
   "id": "b4866d25-c1ac-4e7e-a99b-d5032ebcb18e",
   "metadata": {},
   "outputs": [],
   "source": [
    "for sublist in list_other_lengths:\n",
    "    if len(sublist) > 20:\n",
    "        if 'd' in sublist[20][1]:\n",
    "            if sublist[19] in keywords:\n",
    "                sublist[18] = str(sublist[18]) + str(sublist[19])\n",
    "                del sublist[19]\n",
    "list_other_lengths = [sublist for sublist in list_other_lengths if len(sublist) != 38 or list_length_38.append(sublist)]"
   ]
  },
  {
   "cell_type": "code",
   "execution_count": 17,
   "id": "0d9397a1-f82b-484a-9fae-3edab78ece48",
   "metadata": {},
   "outputs": [],
   "source": [
    "expected_types = [str, float, int, str, bytes, int, int, (str, list), int, int, str, str, int, str]\n",
    "for sublist in list_other_lengths:\n",
    "    if all(isinstance(sublist[i], expected_types[i]) for i in range(14)):\n",
    "        del sublist[14]\n",
    "list_other_lengths = [sublist for sublist in list_other_lengths if len(sublist) != 38 or list_length_38.append(sublist)]"
   ]
  },
  {
   "cell_type": "code",
   "execution_count": 18,
   "id": "b1bc2fc1-2c68-401f-b79f-64867173d3bc",
   "metadata": {},
   "outputs": [],
   "source": [
    "expected_types = [str, float, int, str, bytes, int, int, (str, list), int, int, str, str, int, str]\n",
    "for sublist in list_other_lengths:\n",
    "    del sublist[14]\n",
    "list_other_lengths = [sublist for sublist in list_other_lengths if len(sublist) != 38 or list_length_38.append(sublist)]"
   ]
  },
  {
   "cell_type": "code",
   "execution_count": 19,
   "id": "72f676ef-f779-4863-a83f-8dfef89113df",
   "metadata": {},
   "outputs": [
    {
     "data": {
      "text/plain": [
       "(21, 1593, 3387)"
      ]
     },
     "execution_count": 19,
     "metadata": {},
     "output_type": "execute_result"
    }
   ],
   "source": [
    "len(list_other_lengths), len(list_length_39) , len(list_length_38)\n"
   ]
  },
  {
   "cell_type": "code",
   "execution_count": 20,
   "id": "27fef119-8bb8-43b1-885a-5bbd81dc544b",
   "metadata": {},
   "outputs": [],
   "source": [
    "combined_list = list_length_39 + list_length_38\n",
    "df_malware = pd.DataFrame(combined_list)\n",
    "header[0] = 'Country_Name'\n",
    "df_malware.columns = header\n",
    "df_malware.replace('nan', np.nan, inplace=True)\n",
    "df_malware = df_malware[column_order]"
   ]
  },
  {
   "cell_type": "code",
   "execution_count": 21,
   "id": "ff352378-1422-45db-aca1-49933303d74c",
   "metadata": {},
   "outputs": [
    {
     "data": {
      "text/plain": [
       "(4980, 38)"
      ]
     },
     "execution_count": 21,
     "metadata": {},
     "output_type": "execute_result"
    }
   ],
   "source": [
    "df_malware.shape"
   ]
  },
  {
   "cell_type": "code",
   "execution_count": 22,
   "id": "3ae73f03-0ba7-40dd-b153-a813bd942da9",
   "metadata": {},
   "outputs": [
    {
     "data": {
      "text/html": [
       "<div>\n",
       "<style scoped>\n",
       "    .dataframe tbody tr th:only-of-type {\n",
       "        vertical-align: middle;\n",
       "    }\n",
       "\n",
       "    .dataframe tbody tr th {\n",
       "        vertical-align: top;\n",
       "    }\n",
       "\n",
       "    .dataframe thead th {\n",
       "        text-align: right;\n",
       "    }\n",
       "</style>\n",
       "<table border=\"1\" class=\"dataframe\">\n",
       "  <thead>\n",
       "    <tr style=\"text-align: right;\">\n",
       "      <th></th>\n",
       "      <th>Country_Name</th>\n",
       "      <th>ASN</th>\n",
       "      <th>TTL</th>\n",
       "      <th>IP</th>\n",
       "      <th>Domain</th>\n",
       "      <th>oc_8</th>\n",
       "      <th>longest_word</th>\n",
       "      <th>Domain_Name</th>\n",
       "      <th>dec_32</th>\n",
       "      <th>subdomain</th>\n",
       "      <th>...</th>\n",
       "      <th>len</th>\n",
       "      <th>typos</th>\n",
       "      <th>tld</th>\n",
       "      <th>shortened</th>\n",
       "      <th>Registrar</th>\n",
       "      <th>obfuscate_at_sign</th>\n",
       "      <th>Alexa_Rank</th>\n",
       "      <th>3gram</th>\n",
       "      <th>numeric_percentage</th>\n",
       "      <th>puny_coded</th>\n",
       "    </tr>\n",
       "  </thead>\n",
       "  <tbody>\n",
       "    <tr>\n",
       "      <th>0</th>\n",
       "      <td>US</td>\n",
       "      <td>46606.0</td>\n",
       "      <td>14399</td>\n",
       "      <td>70.40.220.126</td>\n",
       "      <td>b'dionneg.com.'</td>\n",
       "      <td>0</td>\n",
       "      <td>dio</td>\n",
       "      <td>DIONNEG.COM</td>\n",
       "      <td>0</td>\n",
       "      <td>0</td>\n",
       "      <td>...</td>\n",
       "      <td>8</td>\n",
       "      <td>[(g.co, 90), (qq.com, 86)]</td>\n",
       "      <td>com</td>\n",
       "      <td>-1.0</td>\n",
       "      <td>FastDomain Inc.</td>\n",
       "      <td>0</td>\n",
       "      <td>-1.0</td>\n",
       "      <td>[dio, ion, onn, nne, neg]</td>\n",
       "      <td>0.000000</td>\n",
       "      <td>0</td>\n",
       "    </tr>\n",
       "    <tr>\n",
       "      <th>1</th>\n",
       "      <td>US</td>\n",
       "      <td>16509.0</td>\n",
       "      <td>3599</td>\n",
       "      <td>15.164.151.80</td>\n",
       "      <td>b'vipprojects.cn.'</td>\n",
       "      <td>0</td>\n",
       "      <td>projects</td>\n",
       "      <td>vipprojects.cn</td>\n",
       "      <td>0</td>\n",
       "      <td>0</td>\n",
       "      <td>...</td>\n",
       "      <td>12</td>\n",
       "      <td>[(4.cn, 86), (360.cn, 86)]</td>\n",
       "      <td>cn</td>\n",
       "      <td>-1.0</td>\n",
       "      <td>杭州名商网络有限公司</td>\n",
       "      <td>0</td>\n",
       "      <td>-1.0</td>\n",
       "      <td>[vip, ipp, ppr, pro, roj, oje, jec, ect, cts]</td>\n",
       "      <td>0.000000</td>\n",
       "      <td>0</td>\n",
       "    </tr>\n",
       "    <tr>\n",
       "      <th>2</th>\n",
       "      <td>US</td>\n",
       "      <td>395954.0</td>\n",
       "      <td>599</td>\n",
       "      <td>23.110.187.67</td>\n",
       "      <td>b'hhj3.cn.'</td>\n",
       "      <td>0</td>\n",
       "      <td>hh</td>\n",
       "      <td>hhj3.cn</td>\n",
       "      <td>0</td>\n",
       "      <td>0</td>\n",
       "      <td>...</td>\n",
       "      <td>5</td>\n",
       "      <td>[(miitbeian.gov.cn, 86), (miibeian.gov.cn, 86)]</td>\n",
       "      <td>cn</td>\n",
       "      <td>-1.0</td>\n",
       "      <td>成都西维数码科技有限公司</td>\n",
       "      <td>0</td>\n",
       "      <td>-1.0</td>\n",
       "      <td>[hhj, hj3]</td>\n",
       "      <td>11.111111</td>\n",
       "      <td>0</td>\n",
       "    </tr>\n",
       "    <tr>\n",
       "      <th>3</th>\n",
       "      <td>US</td>\n",
       "      <td>395954.0</td>\n",
       "      <td>599</td>\n",
       "      <td>23.110.187.67</td>\n",
       "      <td>b'hhj3.cn.'</td>\n",
       "      <td>0</td>\n",
       "      <td>hh</td>\n",
       "      <td>hhj3.cn</td>\n",
       "      <td>0</td>\n",
       "      <td>0</td>\n",
       "      <td>...</td>\n",
       "      <td>5</td>\n",
       "      <td>[(miitbeian.gov.cn, 86), (miibeian.gov.cn, 86)]</td>\n",
       "      <td>cn</td>\n",
       "      <td>-1.0</td>\n",
       "      <td>成都西维数码科技有限公司</td>\n",
       "      <td>0</td>\n",
       "      <td>-1.0</td>\n",
       "      <td>[hhj, hj3]</td>\n",
       "      <td>11.111111</td>\n",
       "      <td>0</td>\n",
       "    </tr>\n",
       "    <tr>\n",
       "      <th>4</th>\n",
       "      <td>SC</td>\n",
       "      <td>136800.0</td>\n",
       "      <td>599</td>\n",
       "      <td>154.83.190.100</td>\n",
       "      <td>b'hryspap.cn.'</td>\n",
       "      <td>0</td>\n",
       "      <td>pap</td>\n",
       "      <td>hryspap.cn</td>\n",
       "      <td>0</td>\n",
       "      <td>0</td>\n",
       "      <td>...</td>\n",
       "      <td>8</td>\n",
       "      <td>[(miitbeian.gov.cn, 86), (miibeian.gov.cn, 86)]</td>\n",
       "      <td>cn</td>\n",
       "      <td>-1.0</td>\n",
       "      <td>厦门商中在线科技股份有限公司（原厦门商中在线科技有限公司）</td>\n",
       "      <td>0</td>\n",
       "      <td>-1.0</td>\n",
       "      <td>[hry, rys, ysp, spa, pap]</td>\n",
       "      <td>0.000000</td>\n",
       "      <td>0</td>\n",
       "    </tr>\n",
       "  </tbody>\n",
       "</table>\n",
       "<p>5 rows × 38 columns</p>\n",
       "</div>"
      ],
      "text/plain": [
       "  Country_Name       ASN    TTL              IP              Domain  oc_8  \\\n",
       "0           US   46606.0  14399   70.40.220.126     b'dionneg.com.'     0   \n",
       "1           US   16509.0   3599   15.164.151.80  b'vipprojects.cn.'     0   \n",
       "2           US  395954.0    599   23.110.187.67         b'hhj3.cn.'     0   \n",
       "3           US  395954.0    599   23.110.187.67         b'hhj3.cn.'     0   \n",
       "4           SC  136800.0    599  154.83.190.100      b'hryspap.cn.'     0   \n",
       "\n",
       "  longest_word     Domain_Name  dec_32  subdomain  ... len  \\\n",
       "0          dio     DIONNEG.COM       0          0  ...   8   \n",
       "1     projects  vipprojects.cn       0          0  ...  12   \n",
       "2           hh         hhj3.cn       0          0  ...   5   \n",
       "3           hh         hhj3.cn       0          0  ...   5   \n",
       "4          pap      hryspap.cn       0          0  ...   8   \n",
       "\n",
       "                                             typos  tld shortened  \\\n",
       "0                       [(g.co, 90), (qq.com, 86)]  com      -1.0   \n",
       "1                       [(4.cn, 86), (360.cn, 86)]   cn      -1.0   \n",
       "2  [(miitbeian.gov.cn, 86), (miibeian.gov.cn, 86)]   cn      -1.0   \n",
       "3  [(miitbeian.gov.cn, 86), (miibeian.gov.cn, 86)]   cn      -1.0   \n",
       "4  [(miitbeian.gov.cn, 86), (miibeian.gov.cn, 86)]   cn      -1.0   \n",
       "\n",
       "                       Registrar obfuscate_at_sign Alexa_Rank  \\\n",
       "0                FastDomain Inc.                 0       -1.0   \n",
       "1                     杭州名商网络有限公司                 0       -1.0   \n",
       "2                   成都西维数码科技有限公司                 0       -1.0   \n",
       "3                   成都西维数码科技有限公司                 0       -1.0   \n",
       "4  厦门商中在线科技股份有限公司（原厦门商中在线科技有限公司）                 0       -1.0   \n",
       "\n",
       "                                           3gram numeric_percentage puny_coded  \n",
       "0                      [dio, ion, onn, nne, neg]           0.000000          0  \n",
       "1  [vip, ipp, ppr, pro, roj, oje, jec, ect, cts]           0.000000          0  \n",
       "2                                     [hhj, hj3]          11.111111          0  \n",
       "3                                     [hhj, hj3]          11.111111          0  \n",
       "4                      [hry, rys, ysp, spa, pap]           0.000000          0  \n",
       "\n",
       "[5 rows x 38 columns]"
      ]
     },
     "execution_count": 22,
     "metadata": {},
     "output_type": "execute_result"
    }
   ],
   "source": [
    "df_malware.head()"
   ]
  },
  {
   "cell_type": "code",
   "execution_count": 23,
   "id": "7c3f7262-1af8-4e89-af8b-9c2b7e5ddab4",
   "metadata": {},
   "outputs": [],
   "source": [
    "bytes_rows_index = df_malware[df_malware['TTL'].apply(lambda x: isinstance(x, bytes))].index\n"
   ]
  },
  {
   "cell_type": "code",
   "execution_count": 24,
   "id": "43fcb6d1-b839-4b85-ada7-f976327e8e36",
   "metadata": {},
   "outputs": [],
   "source": [
    "for i in bytes_rows_index:\n",
    "    df_malware.at[i, 'IP'], df_malware.at[i, 'Domain'] = df_malware.at[i, 'Domain'], df_malware.at[i, 'IP']\n",
    "    df_malware.at[i, 'Domain'], df_malware.at[i, 'Country_Name'] = df_malware.at[i, 'Country_Name'], df_malware.at[i, 'Domain']\n",
    "    df_malware.at[i, 'Domain'], df_malware.at[i, 'TTL'] = df_malware.at[i, 'TTL'], df_malware.at[i, 'Domain']"
   ]
  },
  {
   "cell_type": "code",
   "execution_count": 25,
   "id": "deeae846-91a4-4f18-860c-f63c297b0a78",
   "metadata": {},
   "outputs": [],
   "source": [
    "df_malware['TTL'] = df_malware['TTL'].astype(int)"
   ]
  },
  {
   "cell_type": "code",
   "execution_count": 26,
   "id": "e65da4cd-3bc9-4731-b327-59ebb99da2b4",
   "metadata": {},
   "outputs": [],
   "source": [
    "df_malware= df_malware[df_malware['hex_32'].apply(lambda x: isinstance(x, int))]"
   ]
  },
  {
   "cell_type": "code",
   "execution_count": 27,
   "id": "7794c85e-83aa-42d5-887e-fe80198fbdb7",
   "metadata": {},
   "outputs": [],
   "source": [
    "df_malware['hex_32'] = df_malware['hex_32'].astype(int)"
   ]
  },
  {
   "cell_type": "code",
   "execution_count": 28,
   "id": "c45106db-44ee-46a5-bd34-2f65d9866254",
   "metadata": {},
   "outputs": [],
   "source": [
    "df_malware['Domain_Age'] = df_malware['Domain_Age'].str.replace(' days', '')\n",
    "df_malware['Domain_Age'] = pd.to_numeric(df_malware['Domain_Age'], errors='coerce').astype('Int64')"
   ]
  },
  {
   "cell_type": "code",
   "execution_count": 29,
   "id": "7f4db6c1-3cee-47cc-8c51-a06677b90315",
   "metadata": {},
   "outputs": [],
   "source": [
    "ind = [4979,4974,4973,4960,4959,4958]\n",
    "df_malware = df_malware.drop(index=ind)\n",
    "\n",
    "df_malware = df_malware.reset_index(drop=True)\n"
   ]
  },
  {
   "cell_type": "code",
   "execution_count": 30,
   "id": "ec3560a8-22c9-4c3a-bf1a-c6a82f200cc9",
   "metadata": {},
   "outputs": [],
   "source": [
    "df_malware['Name_Server_Count'] = df_malware['Name_Server_Count'].astype(float)"
   ]
  },
  {
   "cell_type": "code",
   "execution_count": 31,
   "id": "32b613a4-c029-4a16-9931-28eab45eb16f",
   "metadata": {},
   "outputs": [
    {
     "name": "stdout",
     "output_type": "stream",
     "text": [
      "<class 'pandas.core.frame.DataFrame'>\n",
      "RangeIndex: 4971 entries, 0 to 4970\n",
      "Data columns (total 38 columns):\n",
      " #   Column              Non-Null Count  Dtype  \n",
      "---  ------              --------------  -----  \n",
      " 0   Country_Name        4032 non-null   object \n",
      " 1   ASN                 4034 non-null   float64\n",
      " 2   TTL                 4971 non-null   int64  \n",
      " 3   IP                  4077 non-null   object \n",
      " 4   Domain              4971 non-null   object \n",
      " 5   oc_8                4971 non-null   int64  \n",
      " 6   longest_word        4971 non-null   object \n",
      " 7   Domain_Name         3939 non-null   object \n",
      " 8   dec_32              4971 non-null   int64  \n",
      " 9   subdomain           4971 non-null   int64  \n",
      " 10  sld                 4971 non-null   object \n",
      " 11  Registrant_Name     61 non-null     object \n",
      " 12  hex_32              4971 non-null   int64  \n",
      " 13  Domain_Age          3797 non-null   Int64  \n",
      " 14  entropy             4971 non-null   float64\n",
      " 15  Name_Server_Count   4399 non-null   float64\n",
      " 16  Emails              3351 non-null   object \n",
      " 17  Creation_Date_Time  3799 non-null   object \n",
      " 18  Organization        2264 non-null   object \n",
      " 19  char_distribution   4971 non-null   object \n",
      " 20  2gram               4971 non-null   object \n",
      " 21  State               2615 non-null   object \n",
      " 22  oc_32               4971 non-null   int64  \n",
      " 23  Country             2873 non-null   object \n",
      " 24  Page_Rank           4400 non-null   float64\n",
      " 25  hex_8               4971 non-null   int64  \n",
      " 26  dec_8               4971 non-null   int64  \n",
      " 27  1gram               4971 non-null   object \n",
      " 28  len                 4971 non-null   int64  \n",
      " 29  typos               4971 non-null   object \n",
      " 30  tld                 4971 non-null   object \n",
      " 31  shortened           4919 non-null   float64\n",
      " 32  Registrar           3673 non-null   object \n",
      " 33  obfuscate_at_sign   4971 non-null   int64  \n",
      " 34  Alexa_Rank          4400 non-null   float64\n",
      " 35  3gram               4971 non-null   object \n",
      " 36  numeric_percentage  4971 non-null   float64\n",
      " 37  puny_coded          4971 non-null   int64  \n",
      "dtypes: Int64(1), float64(7), int64(11), object(19)\n",
      "memory usage: 1.4+ MB\n"
     ]
    }
   ],
   "source": [
    "df_malware.info()"
   ]
  },
  {
   "cell_type": "code",
   "execution_count": 32,
   "id": "c00663c3-f4c0-4e6c-8171-424434e8c4c5",
   "metadata": {},
   "outputs": [
    {
     "data": {
      "text/html": [
       "<div>\n",
       "<style scoped>\n",
       "    .dataframe tbody tr th:only-of-type {\n",
       "        vertical-align: middle;\n",
       "    }\n",
       "\n",
       "    .dataframe tbody tr th {\n",
       "        vertical-align: top;\n",
       "    }\n",
       "\n",
       "    .dataframe thead th {\n",
       "        text-align: right;\n",
       "    }\n",
       "</style>\n",
       "<table border=\"1\" class=\"dataframe\">\n",
       "  <thead>\n",
       "    <tr style=\"text-align: right;\">\n",
       "      <th></th>\n",
       "      <th>Country_Name</th>\n",
       "      <th>ASN</th>\n",
       "      <th>TTL</th>\n",
       "      <th>IP</th>\n",
       "      <th>Domain</th>\n",
       "      <th>oc_8</th>\n",
       "      <th>longest_word</th>\n",
       "      <th>Domain_Name</th>\n",
       "      <th>dec_32</th>\n",
       "      <th>subdomain</th>\n",
       "      <th>...</th>\n",
       "      <th>len</th>\n",
       "      <th>typos</th>\n",
       "      <th>tld</th>\n",
       "      <th>shortened</th>\n",
       "      <th>Registrar</th>\n",
       "      <th>obfuscate_at_sign</th>\n",
       "      <th>Alexa_Rank</th>\n",
       "      <th>3gram</th>\n",
       "      <th>numeric_percentage</th>\n",
       "      <th>puny_coded</th>\n",
       "    </tr>\n",
       "  </thead>\n",
       "  <tbody>\n",
       "    <tr>\n",
       "      <th>0</th>\n",
       "      <td>US</td>\n",
       "      <td>46606.0</td>\n",
       "      <td>14399</td>\n",
       "      <td>70.40.220.126</td>\n",
       "      <td>b'dionneg.com.'</td>\n",
       "      <td>0</td>\n",
       "      <td>dio</td>\n",
       "      <td>DIONNEG.COM</td>\n",
       "      <td>0</td>\n",
       "      <td>0</td>\n",
       "      <td>...</td>\n",
       "      <td>8</td>\n",
       "      <td>[(g.co, 90), (qq.com, 86)]</td>\n",
       "      <td>com</td>\n",
       "      <td>-1.0</td>\n",
       "      <td>FastDomain Inc.</td>\n",
       "      <td>0</td>\n",
       "      <td>-1.0</td>\n",
       "      <td>[dio, ion, onn, nne, neg]</td>\n",
       "      <td>0.000000</td>\n",
       "      <td>0</td>\n",
       "    </tr>\n",
       "    <tr>\n",
       "      <th>1</th>\n",
       "      <td>US</td>\n",
       "      <td>16509.0</td>\n",
       "      <td>3599</td>\n",
       "      <td>15.164.151.80</td>\n",
       "      <td>b'vipprojects.cn.'</td>\n",
       "      <td>0</td>\n",
       "      <td>projects</td>\n",
       "      <td>vipprojects.cn</td>\n",
       "      <td>0</td>\n",
       "      <td>0</td>\n",
       "      <td>...</td>\n",
       "      <td>12</td>\n",
       "      <td>[(4.cn, 86), (360.cn, 86)]</td>\n",
       "      <td>cn</td>\n",
       "      <td>-1.0</td>\n",
       "      <td>杭州名商网络有限公司</td>\n",
       "      <td>0</td>\n",
       "      <td>-1.0</td>\n",
       "      <td>[vip, ipp, ppr, pro, roj, oje, jec, ect, cts]</td>\n",
       "      <td>0.000000</td>\n",
       "      <td>0</td>\n",
       "    </tr>\n",
       "    <tr>\n",
       "      <th>2</th>\n",
       "      <td>US</td>\n",
       "      <td>395954.0</td>\n",
       "      <td>599</td>\n",
       "      <td>23.110.187.67</td>\n",
       "      <td>b'hhj3.cn.'</td>\n",
       "      <td>0</td>\n",
       "      <td>hh</td>\n",
       "      <td>hhj3.cn</td>\n",
       "      <td>0</td>\n",
       "      <td>0</td>\n",
       "      <td>...</td>\n",
       "      <td>5</td>\n",
       "      <td>[(miitbeian.gov.cn, 86), (miibeian.gov.cn, 86)]</td>\n",
       "      <td>cn</td>\n",
       "      <td>-1.0</td>\n",
       "      <td>成都西维数码科技有限公司</td>\n",
       "      <td>0</td>\n",
       "      <td>-1.0</td>\n",
       "      <td>[hhj, hj3]</td>\n",
       "      <td>11.111111</td>\n",
       "      <td>0</td>\n",
       "    </tr>\n",
       "    <tr>\n",
       "      <th>3</th>\n",
       "      <td>US</td>\n",
       "      <td>395954.0</td>\n",
       "      <td>599</td>\n",
       "      <td>23.110.187.67</td>\n",
       "      <td>b'hhj3.cn.'</td>\n",
       "      <td>0</td>\n",
       "      <td>hh</td>\n",
       "      <td>hhj3.cn</td>\n",
       "      <td>0</td>\n",
       "      <td>0</td>\n",
       "      <td>...</td>\n",
       "      <td>5</td>\n",
       "      <td>[(miitbeian.gov.cn, 86), (miibeian.gov.cn, 86)]</td>\n",
       "      <td>cn</td>\n",
       "      <td>-1.0</td>\n",
       "      <td>成都西维数码科技有限公司</td>\n",
       "      <td>0</td>\n",
       "      <td>-1.0</td>\n",
       "      <td>[hhj, hj3]</td>\n",
       "      <td>11.111111</td>\n",
       "      <td>0</td>\n",
       "    </tr>\n",
       "    <tr>\n",
       "      <th>4</th>\n",
       "      <td>SC</td>\n",
       "      <td>136800.0</td>\n",
       "      <td>599</td>\n",
       "      <td>154.83.190.100</td>\n",
       "      <td>b'hryspap.cn.'</td>\n",
       "      <td>0</td>\n",
       "      <td>pap</td>\n",
       "      <td>hryspap.cn</td>\n",
       "      <td>0</td>\n",
       "      <td>0</td>\n",
       "      <td>...</td>\n",
       "      <td>8</td>\n",
       "      <td>[(miitbeian.gov.cn, 86), (miibeian.gov.cn, 86)]</td>\n",
       "      <td>cn</td>\n",
       "      <td>-1.0</td>\n",
       "      <td>厦门商中在线科技股份有限公司（原厦门商中在线科技有限公司）</td>\n",
       "      <td>0</td>\n",
       "      <td>-1.0</td>\n",
       "      <td>[hry, rys, ysp, spa, pap]</td>\n",
       "      <td>0.000000</td>\n",
       "      <td>0</td>\n",
       "    </tr>\n",
       "  </tbody>\n",
       "</table>\n",
       "<p>5 rows × 38 columns</p>\n",
       "</div>"
      ],
      "text/plain": [
       "  Country_Name       ASN    TTL              IP              Domain  oc_8  \\\n",
       "0           US   46606.0  14399   70.40.220.126     b'dionneg.com.'     0   \n",
       "1           US   16509.0   3599   15.164.151.80  b'vipprojects.cn.'     0   \n",
       "2           US  395954.0    599   23.110.187.67         b'hhj3.cn.'     0   \n",
       "3           US  395954.0    599   23.110.187.67         b'hhj3.cn.'     0   \n",
       "4           SC  136800.0    599  154.83.190.100      b'hryspap.cn.'     0   \n",
       "\n",
       "  longest_word     Domain_Name  dec_32  subdomain  ... len  \\\n",
       "0          dio     DIONNEG.COM       0          0  ...   8   \n",
       "1     projects  vipprojects.cn       0          0  ...  12   \n",
       "2           hh         hhj3.cn       0          0  ...   5   \n",
       "3           hh         hhj3.cn       0          0  ...   5   \n",
       "4          pap      hryspap.cn       0          0  ...   8   \n",
       "\n",
       "                                             typos  tld  shortened  \\\n",
       "0                       [(g.co, 90), (qq.com, 86)]  com       -1.0   \n",
       "1                       [(4.cn, 86), (360.cn, 86)]   cn       -1.0   \n",
       "2  [(miitbeian.gov.cn, 86), (miibeian.gov.cn, 86)]   cn       -1.0   \n",
       "3  [(miitbeian.gov.cn, 86), (miibeian.gov.cn, 86)]   cn       -1.0   \n",
       "4  [(miitbeian.gov.cn, 86), (miibeian.gov.cn, 86)]   cn       -1.0   \n",
       "\n",
       "                       Registrar  obfuscate_at_sign Alexa_Rank  \\\n",
       "0                FastDomain Inc.                  0       -1.0   \n",
       "1                     杭州名商网络有限公司                  0       -1.0   \n",
       "2                   成都西维数码科技有限公司                  0       -1.0   \n",
       "3                   成都西维数码科技有限公司                  0       -1.0   \n",
       "4  厦门商中在线科技股份有限公司（原厦门商中在线科技有限公司）                  0       -1.0   \n",
       "\n",
       "                                           3gram numeric_percentage puny_coded  \n",
       "0                      [dio, ion, onn, nne, neg]           0.000000          0  \n",
       "1  [vip, ipp, ppr, pro, roj, oje, jec, ect, cts]           0.000000          0  \n",
       "2                                     [hhj, hj3]          11.111111          0  \n",
       "3                                     [hhj, hj3]          11.111111          0  \n",
       "4                      [hry, rys, ysp, spa, pap]           0.000000          0  \n",
       "\n",
       "[5 rows x 38 columns]"
      ]
     },
     "execution_count": 32,
     "metadata": {},
     "output_type": "execute_result"
    }
   ],
   "source": [
    "df_malware.head()"
   ]
  },
  {
   "cell_type": "code",
   "execution_count": 33,
   "id": "d1c6ce52-851c-46d2-92d0-94b19f45552d",
   "metadata": {},
   "outputs": [],
   "source": [
    "df_malware.to_csv('modified_malware.csv',index=False)"
   ]
  },
  {
   "cell_type": "markdown",
   "id": "4cf2c3f2-1c73-47f7-a423-5554045d38c2",
   "metadata": {},
   "source": [
    "# Benign"
   ]
  },
  {
   "cell_type": "code",
   "execution_count": 34,
   "id": "6088b2ab-55fd-4501-acac-613d3bf567b8",
   "metadata": {},
   "outputs": [],
   "source": [
    "key = [29465,65232,173216, 265778, 265779,318686, 318687, 318688,173215, 265775, 265776,318681, 318682,39591,47147,47148,51716,59436,65174,67680,67681,68806,68807,78975,81201,93102,93103,113693,114177,114178,132166,137032,137033,154187,154188,154189,175442,208857,230268,238977,238978,238979,238980,269215,295124,312569,312570,323129,356733,356734,356735,424862,424863,462188,462189,469882,469883,481203,481204,481561,481562,485302,485303,496243,496244,\n",
    "      39590,173191, 265742, 265743,318642, 318643,47145,51712,59431,65168,67672,67673,68796,68797,78964,81189,93088,93089,113678,114160,114161,132148,\n",
    " 137012, 173169, 265712, 265713,318606, 318607,137013,154165,154166,175417,208831,230241,238947,238948,238949,269181,295089,312532,312533,\n",
    " 323089,356690,356691,356692,424817,424818,462141,462142,469833,469834,481152,481153,481508,481509,485247,485248,496186,496187,39589,47143,\n",
    " 51709,59427,65163,67665,67666,68787,68788,78954,81178,93075,93076,113664,114144,114145,132131,136993,136994,154144,154145,175394,208807,230216,\n",
    " 238919,238920,238921,269150,295057,312498,312499,323052,356650,356651,356652,424775,424776,462097,462098,469787,469788,481104,481105,\n",
    " 481458,481459,485195,485196,496132,496133]"
   ]
  },
  {
   "cell_type": "code",
   "execution_count": 35,
   "id": "20990395-1d91-434b-9d01-9b6f3f0ab463",
   "metadata": {},
   "outputs": [
    {
     "name": "stderr",
     "output_type": "stream",
     "text": [
      "<unknown>:1: SyntaxWarning: invalid decimal literal\n",
      "<unknown>:1: SyntaxWarning: invalid decimal literal\n",
      "<unknown>:1: SyntaxWarning: invalid decimal literal\n",
      "<unknown>:1: SyntaxWarning: invalid decimal literal\n",
      "<unknown>:1: SyntaxWarning: invalid decimal literal\n",
      "<unknown>:1: SyntaxWarning: invalid decimal literal\n",
      "<unknown>:1: SyntaxWarning: invalid decimal literal\n",
      "<unknown>:1: SyntaxWarning: invalid decimal literal\n",
      "<unknown>:1: SyntaxWarning: invalid decimal literal\n",
      "<unknown>:1: SyntaxWarning: invalid decimal literal\n",
      "<unknown>:1: SyntaxWarning: invalid decimal literal\n",
      "<unknown>:1: SyntaxWarning: invalid decimal literal\n",
      "<unknown>:1: SyntaxWarning: invalid decimal literal\n",
      "<unknown>:1: SyntaxWarning: invalid decimal literal\n",
      "<unknown>:1: SyntaxWarning: invalid decimal literal\n",
      "<unknown>:1: SyntaxWarning: invalid decimal literal\n",
      "<unknown>:1: SyntaxWarning: invalid decimal literal\n",
      "<unknown>:1: SyntaxWarning: invalid decimal literal\n",
      "<unknown>:1: SyntaxWarning: invalid decimal literal\n",
      "<unknown>:1: SyntaxWarning: invalid decimal literal\n",
      "<unknown>:1: SyntaxWarning: invalid decimal literal\n",
      "<unknown>:1: SyntaxWarning: invalid decimal literal\n",
      "<unknown>:1: SyntaxWarning: invalid decimal literal\n",
      "<unknown>:1: SyntaxWarning: invalid decimal literal\n",
      "<unknown>:1: SyntaxWarning: invalid decimal literal\n",
      "<unknown>:1: SyntaxWarning: invalid decimal literal\n",
      "<unknown>:1: SyntaxWarning: invalid decimal literal\n",
      "<unknown>:1: SyntaxWarning: invalid decimal literal\n",
      "<unknown>:1: SyntaxWarning: invalid decimal literal\n",
      "<unknown>:1: SyntaxWarning: invalid decimal literal\n",
      "<unknown>:1: SyntaxWarning: invalid decimal literal\n",
      "<unknown>:1: SyntaxWarning: invalid decimal literal\n",
      "<unknown>:1: SyntaxWarning: invalid decimal literal\n",
      "<unknown>:1: SyntaxWarning: invalid decimal literal\n",
      "<unknown>:1: SyntaxWarning: invalid decimal literal\n",
      "<unknown>:1: SyntaxWarning: invalid decimal literal\n",
      "<unknown>:1: SyntaxWarning: invalid decimal literal\n",
      "<unknown>:1: SyntaxWarning: invalid decimal literal\n",
      "<unknown>:1: SyntaxWarning: invalid decimal literal\n",
      "<unknown>:1: SyntaxWarning: invalid decimal literal\n",
      "<unknown>:1: SyntaxWarning: invalid decimal literal\n",
      "<unknown>:1: SyntaxWarning: invalid decimal literal\n",
      "<unknown>:1: SyntaxWarning: invalid decimal literal\n",
      "<unknown>:1: SyntaxWarning: invalid decimal literal\n",
      "<unknown>:1: SyntaxWarning: invalid decimal literal\n",
      "<unknown>:1: SyntaxWarning: invalid imaginary literal\n",
      "<unknown>:1: SyntaxWarning: invalid decimal literal\n",
      "<unknown>:1: SyntaxWarning: invalid decimal literal\n",
      "<unknown>:1: SyntaxWarning: invalid decimal literal\n",
      "<unknown>:1: SyntaxWarning: invalid decimal literal\n",
      "<unknown>:1: SyntaxWarning: invalid decimal literal\n",
      "<unknown>:1: SyntaxWarning: invalid decimal literal\n",
      "<unknown>:1: SyntaxWarning: invalid decimal literal\n",
      "<unknown>:1: SyntaxWarning: invalid decimal literal\n",
      "<unknown>:1: SyntaxWarning: invalid decimal literal\n",
      "<unknown>:1: SyntaxWarning: invalid decimal literal\n",
      "<unknown>:1: SyntaxWarning: invalid decimal literal\n",
      "<unknown>:1: SyntaxWarning: invalid decimal literal\n",
      "<unknown>:1: SyntaxWarning: invalid decimal literal\n",
      "<unknown>:1: SyntaxWarning: invalid decimal literal\n",
      "<unknown>:1: SyntaxWarning: invalid decimal literal\n",
      "<unknown>:1: SyntaxWarning: invalid decimal literal\n",
      "<unknown>:1: SyntaxWarning: invalid decimal literal\n",
      "<unknown>:1: SyntaxWarning: invalid decimal literal\n",
      "<unknown>:1: SyntaxWarning: invalid decimal literal\n",
      "<unknown>:1: SyntaxWarning: invalid decimal literal\n",
      "<unknown>:1: SyntaxWarning: invalid decimal literal\n",
      "<unknown>:1: SyntaxWarning: invalid decimal literal\n",
      "<unknown>:1: SyntaxWarning: invalid decimal literal\n",
      "<unknown>:1: SyntaxWarning: invalid decimal literal\n",
      "<unknown>:1: SyntaxWarning: invalid decimal literal\n",
      "<unknown>:1: SyntaxWarning: invalid decimal literal\n"
     ]
    }
   ],
   "source": [
    "with open(\"CSV_benign.csv\", 'r') as file:\n",
    "    lines = file.readlines()\n",
    "cnt = 0;\n",
    "processed_data = []\n",
    "\n",
    "for line in lines[1:]:\n",
    "    if cnt not in key:\n",
    "        processed_row = convert_data(line)\n",
    "        processed_data.append(processed_row)\n",
    "    cnt = cnt + 1\n",
    "header = convert_data(lines[0])"
   ]
  },
  {
   "cell_type": "code",
   "execution_count": 36,
   "id": "595ad484-2ca0-48ba-ae05-e688790f1186",
   "metadata": {},
   "outputs": [
    {
     "data": {
      "text/plain": [
       "(228203, 137620, 134005)"
      ]
     },
     "execution_count": 36,
     "metadata": {},
     "output_type": "execute_result"
    }
   ],
   "source": [
    "list_length_39 = []\n",
    "list_length_38 = []\n",
    "list_other_lengths = []\n",
    "\n",
    "for sublist in processed_data:\n",
    "    if len(sublist) == 39:\n",
    "        list_length_39.append(sublist)\n",
    "    elif len(sublist) == 38:\n",
    "        list_length_38.append(sublist)\n",
    "    else:\n",
    "        list_other_lengths.append(sublist)\n",
    "        \n",
    "len(list_other_lengths), len(list_length_39) , len(list_length_38)"
   ]
  },
  {
   "cell_type": "code",
   "execution_count": 37,
   "id": "567570b3-b484-4661-837f-238030063e2a",
   "metadata": {},
   "outputs": [],
   "source": [
    "for i in range(len(list_length_39)):\n",
    "    if list_length_39[i][22] != 'nan':\n",
    "        del list_length_39[i][23]\n",
    "\n",
    "for sublist in list_length_39:\n",
    "    assert len(sublist) == 38, f\"List at index {list_length_39.index(sublist)} does not have length 38\""
   ]
  },
  {
   "cell_type": "code",
   "execution_count": 38,
   "id": "268e778d-9273-4daf-91e9-a4bb10ed4876",
   "metadata": {},
   "outputs": [],
   "source": [
    "combined_list = list_length_39 + list_length_38\n",
    "df_benign = pd.DataFrame(combined_list)\n",
    "header[0] = 'Country_Name'\n",
    "df_benign.columns = header\n",
    "df_benign.replace('nan', np.nan, inplace=True)"
   ]
  },
  {
   "cell_type": "code",
   "execution_count": 39,
   "id": "d3e503e7-84b4-4972-b737-e030e75feeae",
   "metadata": {},
   "outputs": [],
   "source": [
    "df_benign = df_benign[column_order]"
   ]
  },
  {
   "cell_type": "code",
   "execution_count": 40,
   "id": "72defa62-fb73-47e3-8254-067ccdb74d0f",
   "metadata": {},
   "outputs": [],
   "source": [
    "df_benign = df_benign[df_benign['puny_coded'].apply(lambda x: isinstance(x, int))]"
   ]
  },
  {
   "cell_type": "code",
   "execution_count": 41,
   "id": "e48c3147-81bc-4086-a435-e57d7693ebbb",
   "metadata": {},
   "outputs": [],
   "source": [
    "df_benign['Domain_Age'] = df_benign['Domain_Age'].str.replace(' days', '')\n",
    "df_benign['Domain_Age'] = pd.to_numeric(df_benign['Domain_Age'], errors='coerce').astype('Int64')"
   ]
  },
  {
   "cell_type": "code",
   "execution_count": 42,
   "id": "1a3c9a49-168d-4cf6-b3cc-28734723e010",
   "metadata": {},
   "outputs": [
    {
     "name": "stdout",
     "output_type": "stream",
     "text": [
      "(271063, 38)\n",
      "(271063, 38)\n"
     ]
    }
   ],
   "source": [
    "df_benign = df_benign[df_benign['oc_32'].apply(lambda x: isinstance(x, int) or pd.isnull(x))]\n",
    "print(df_benign.shape)\n",
    "\n",
    "df_benign = df_benign[df_benign['obfuscate_at_sign'].apply(lambda x: isinstance(x, int) or pd.isnull(x))]\n",
    "print(df_benign.shape)\n"
   ]
  },
  {
   "cell_type": "code",
   "execution_count": 43,
   "id": "39cf8996-d9f6-4aaa-86c8-6e048b87e7c2",
   "metadata": {},
   "outputs": [],
   "source": [
    "df_benign['oc_32'] = df_benign['oc_32'].astype(int)"
   ]
  },
  {
   "cell_type": "code",
   "execution_count": 44,
   "id": "6725ff96-20d5-4820-806b-8c12b88b6994",
   "metadata": {},
   "outputs": [],
   "source": [
    "df_benign['obfuscate_at_sign'] = df_benign['obfuscate_at_sign'].astype(int)"
   ]
  },
  {
   "cell_type": "code",
   "execution_count": 45,
   "id": "5718e881-235c-4e1f-88ce-bccfcdff760d",
   "metadata": {},
   "outputs": [
    {
     "name": "stdout",
     "output_type": "stream",
     "text": [
      "<class 'pandas.core.frame.DataFrame'>\n",
      "Index: 271063 entries, 0 to 271624\n",
      "Data columns (total 38 columns):\n",
      " #   Column              Non-Null Count   Dtype  \n",
      "---  ------              --------------   -----  \n",
      " 0   Country_Name        211512 non-null  object \n",
      " 1   ASN                 211522 non-null  float64\n",
      " 2   TTL                 271063 non-null  int64  \n",
      " 3   IP                  212234 non-null  object \n",
      " 4   Domain              271063 non-null  object \n",
      " 5   oc_8                271063 non-null  object \n",
      " 6   longest_word        270946 non-null  object \n",
      " 7   Domain_Name         174709 non-null  object \n",
      " 8   dec_32              271063 non-null  object \n",
      " 9   subdomain           271063 non-null  float64\n",
      " 10  sld                 270964 non-null  object \n",
      " 11  Registrant_Name     11378 non-null   object \n",
      " 12  hex_32              271063 non-null  float64\n",
      " 13  Domain_Age          137039 non-null  Int64  \n",
      " 14  entropy             271063 non-null  float64\n",
      " 15  Name_Server_Count   217237 non-null  float64\n",
      " 16  Emails              106213 non-null  object \n",
      " 17  Creation_Date_Time  139881 non-null  object \n",
      " 18  Organization        62572 non-null   object \n",
      " 19  char_distribution   271063 non-null  object \n",
      " 20  2gram               271063 non-null  object \n",
      " 21  State               54592 non-null   object \n",
      " 22  oc_32               271063 non-null  int64  \n",
      " 23  Country             79615 non-null   object \n",
      " 24  Page_Rank           217237 non-null  float64\n",
      " 25  hex_8               271063 non-null  int64  \n",
      " 26  dec_8               271063 non-null  int64  \n",
      " 27  1gram               271063 non-null  object \n",
      " 28  len                 271063 non-null  object \n",
      " 29  typos               271063 non-null  object \n",
      " 30  tld                 271063 non-null  object \n",
      " 31  shortened           270374 non-null  float64\n",
      " 32  Registrar           131040 non-null  object \n",
      " 33  obfuscate_at_sign   271063 non-null  int64  \n",
      " 34  Alexa_Rank          217237 non-null  object \n",
      " 35  3gram               271063 non-null  object \n",
      " 36  numeric_percentage  271063 non-null  float64\n",
      " 37  puny_coded          271063 non-null  object \n",
      "dtypes: Int64(1), float64(8), int64(5), object(24)\n",
      "memory usage: 80.9+ MB\n"
     ]
    }
   ],
   "source": [
    "df_benign.info()"
   ]
  },
  {
   "cell_type": "code",
   "execution_count": 46,
   "id": "f08a4331-4aca-4a72-9742-582637bb5e5b",
   "metadata": {},
   "outputs": [
    {
     "data": {
      "text/html": [
       "<div>\n",
       "<style scoped>\n",
       "    .dataframe tbody tr th:only-of-type {\n",
       "        vertical-align: middle;\n",
       "    }\n",
       "\n",
       "    .dataframe tbody tr th {\n",
       "        vertical-align: top;\n",
       "    }\n",
       "\n",
       "    .dataframe thead th {\n",
       "        text-align: right;\n",
       "    }\n",
       "</style>\n",
       "<table border=\"1\" class=\"dataframe\">\n",
       "  <thead>\n",
       "    <tr style=\"text-align: right;\">\n",
       "      <th></th>\n",
       "      <th>Country_Name</th>\n",
       "      <th>ASN</th>\n",
       "      <th>TTL</th>\n",
       "      <th>IP</th>\n",
       "      <th>Domain</th>\n",
       "      <th>oc_8</th>\n",
       "      <th>longest_word</th>\n",
       "      <th>Domain_Name</th>\n",
       "      <th>dec_32</th>\n",
       "      <th>subdomain</th>\n",
       "      <th>...</th>\n",
       "      <th>len</th>\n",
       "      <th>typos</th>\n",
       "      <th>tld</th>\n",
       "      <th>shortened</th>\n",
       "      <th>Registrar</th>\n",
       "      <th>obfuscate_at_sign</th>\n",
       "      <th>Alexa_Rank</th>\n",
       "      <th>3gram</th>\n",
       "      <th>numeric_percentage</th>\n",
       "      <th>puny_coded</th>\n",
       "    </tr>\n",
       "  </thead>\n",
       "  <tbody>\n",
       "    <tr>\n",
       "      <th>0</th>\n",
       "      <td>NaN</td>\n",
       "      <td>NaN</td>\n",
       "      <td>38</td>\n",
       "      <td>NaN</td>\n",
       "      <td>b'www.google.com.'</td>\n",
       "      <td>0</td>\n",
       "      <td>google</td>\n",
       "      <td>GOOGLE.COM</td>\n",
       "      <td>0</td>\n",
       "      <td>1.0</td>\n",
       "      <td>...</td>\n",
       "      <td>10</td>\n",
       "      <td>[(google.com, 100), (google.com.br, 95)]</td>\n",
       "      <td>com</td>\n",
       "      <td>-1.0</td>\n",
       "      <td>MarkMonitor Inc.</td>\n",
       "      <td>0</td>\n",
       "      <td>1.0</td>\n",
       "      <td>[goo, oog, ogl, gle]</td>\n",
       "      <td>0.0</td>\n",
       "      <td>0</td>\n",
       "    </tr>\n",
       "    <tr>\n",
       "      <th>1</th>\n",
       "      <td>NaN</td>\n",
       "      <td>NaN</td>\n",
       "      <td>95</td>\n",
       "      <td>NaN</td>\n",
       "      <td>b'youtube.com.'</td>\n",
       "      <td>0</td>\n",
       "      <td>youtube</td>\n",
       "      <td>YOUTUBE.COM</td>\n",
       "      <td>0</td>\n",
       "      <td>0.0</td>\n",
       "      <td>...</td>\n",
       "      <td>8</td>\n",
       "      <td>[(youtube.com, 100), (qq.com, 86)]</td>\n",
       "      <td>com</td>\n",
       "      <td>-1.0</td>\n",
       "      <td>MarkMonitor Inc.</td>\n",
       "      <td>0</td>\n",
       "      <td>2.0</td>\n",
       "      <td>[you, out, utu, tub, ube]</td>\n",
       "      <td>0.0</td>\n",
       "      <td>0</td>\n",
       "    </tr>\n",
       "    <tr>\n",
       "      <th>2</th>\n",
       "      <td>US</td>\n",
       "      <td>1313.0</td>\n",
       "      <td>18</td>\n",
       "      <td>192.147.130.204</td>\n",
       "      <td>b'adobe.com.'</td>\n",
       "      <td>0</td>\n",
       "      <td>adobe</td>\n",
       "      <td>ADOBE.COM</td>\n",
       "      <td>0</td>\n",
       "      <td>0.0</td>\n",
       "      <td>...</td>\n",
       "      <td>6</td>\n",
       "      <td>[(adobe.com, 100), (qq.com, 86)]</td>\n",
       "      <td>com</td>\n",
       "      <td>-1.0</td>\n",
       "      <td>Nom-iq Ltd. dba COM LAUDE</td>\n",
       "      <td>0</td>\n",
       "      <td>55.0</td>\n",
       "      <td>[ado, dob, obe]</td>\n",
       "      <td>0.0</td>\n",
       "      <td>0</td>\n",
       "    </tr>\n",
       "    <tr>\n",
       "      <th>3</th>\n",
       "      <td>NaN</td>\n",
       "      <td>NaN</td>\n",
       "      <td>729</td>\n",
       "      <td>NaN</td>\n",
       "      <td>b'www.adobe.com.'</td>\n",
       "      <td>0</td>\n",
       "      <td>adobe</td>\n",
       "      <td>ADOBE.COM</td>\n",
       "      <td>0</td>\n",
       "      <td>1.0</td>\n",
       "      <td>...</td>\n",
       "      <td>9</td>\n",
       "      <td>[(adobe.com, 100), (qq.com, 86)]</td>\n",
       "      <td>com</td>\n",
       "      <td>-1.0</td>\n",
       "      <td>Nom-iq Ltd. dba COM LAUDE</td>\n",
       "      <td>0</td>\n",
       "      <td>55.0</td>\n",
       "      <td>[ado, dob, obe]</td>\n",
       "      <td>0.0</td>\n",
       "      <td>0</td>\n",
       "    </tr>\n",
       "    <tr>\n",
       "      <th>4</th>\n",
       "      <td>US</td>\n",
       "      <td>16625.0</td>\n",
       "      <td>729</td>\n",
       "      <td>104.107.49.85</td>\n",
       "      <td>b'www.adobe.com.'</td>\n",
       "      <td>0</td>\n",
       "      <td>adobe</td>\n",
       "      <td>ADOBE.COM</td>\n",
       "      <td>0</td>\n",
       "      <td>1.0</td>\n",
       "      <td>...</td>\n",
       "      <td>9</td>\n",
       "      <td>[(adobe.com, 100), (qq.com, 86)]</td>\n",
       "      <td>com</td>\n",
       "      <td>-1.0</td>\n",
       "      <td>Nom-iq Ltd. dba COM LAUDE</td>\n",
       "      <td>0</td>\n",
       "      <td>55.0</td>\n",
       "      <td>[ado, dob, obe]</td>\n",
       "      <td>0.0</td>\n",
       "      <td>0</td>\n",
       "    </tr>\n",
       "  </tbody>\n",
       "</table>\n",
       "<p>5 rows × 38 columns</p>\n",
       "</div>"
      ],
      "text/plain": [
       "  Country_Name      ASN  TTL               IP              Domain oc_8  \\\n",
       "0          NaN      NaN   38              NaN  b'www.google.com.'    0   \n",
       "1          NaN      NaN   95              NaN     b'youtube.com.'    0   \n",
       "2           US   1313.0   18  192.147.130.204       b'adobe.com.'    0   \n",
       "3          NaN      NaN  729              NaN   b'www.adobe.com.'    0   \n",
       "4           US  16625.0  729    104.107.49.85   b'www.adobe.com.'    0   \n",
       "\n",
       "  longest_word  Domain_Name dec_32  subdomain  ... len  \\\n",
       "0       google   GOOGLE.COM      0        1.0  ...  10   \n",
       "1      youtube  YOUTUBE.COM      0        0.0  ...   8   \n",
       "2        adobe    ADOBE.COM      0        0.0  ...   6   \n",
       "3        adobe    ADOBE.COM      0        1.0  ...   9   \n",
       "4        adobe    ADOBE.COM      0        1.0  ...   9   \n",
       "\n",
       "                                      typos  tld  shortened  \\\n",
       "0  [(google.com, 100), (google.com.br, 95)]  com       -1.0   \n",
       "1        [(youtube.com, 100), (qq.com, 86)]  com       -1.0   \n",
       "2          [(adobe.com, 100), (qq.com, 86)]  com       -1.0   \n",
       "3          [(adobe.com, 100), (qq.com, 86)]  com       -1.0   \n",
       "4          [(adobe.com, 100), (qq.com, 86)]  com       -1.0   \n",
       "\n",
       "                   Registrar  obfuscate_at_sign Alexa_Rank  \\\n",
       "0           MarkMonitor Inc.                  0        1.0   \n",
       "1           MarkMonitor Inc.                  0        2.0   \n",
       "2  Nom-iq Ltd. dba COM LAUDE                  0       55.0   \n",
       "3  Nom-iq Ltd. dba COM LAUDE                  0       55.0   \n",
       "4  Nom-iq Ltd. dba COM LAUDE                  0       55.0   \n",
       "\n",
       "                       3gram numeric_percentage puny_coded  \n",
       "0       [goo, oog, ogl, gle]                0.0          0  \n",
       "1  [you, out, utu, tub, ube]                0.0          0  \n",
       "2            [ado, dob, obe]                0.0          0  \n",
       "3            [ado, dob, obe]                0.0          0  \n",
       "4            [ado, dob, obe]                0.0          0  \n",
       "\n",
       "[5 rows x 38 columns]"
      ]
     },
     "execution_count": 46,
     "metadata": {},
     "output_type": "execute_result"
    }
   ],
   "source": [
    "df_benign.head()"
   ]
  },
  {
   "cell_type": "code",
   "execution_count": 47,
   "id": "e91b0329-b414-4320-8e82-e90e15f8b949",
   "metadata": {},
   "outputs": [],
   "source": [
    "df_benign.to_csv('modified_benign.csv',index=False)"
   ]
  },
  {
   "cell_type": "markdown",
   "id": "eb83437b-9b9f-4c83-ba6f-f2d40545b511",
   "metadata": {},
   "source": [
    "# Spam"
   ]
  },
  {
   "cell_type": "code",
   "execution_count": 48,
   "id": "2c3e9b07-8f87-4e78-953f-f4104538685e",
   "metadata": {},
   "outputs": [],
   "source": [
    "with open(\"CSV_spam.csv\", 'r') as file:\n",
    "    lines = file.readlines()\n",
    "header = convert_data(lines[0])"
   ]
  },
  {
   "cell_type": "code",
   "execution_count": 49,
   "id": "e6d78cac-c7c8-4e7f-824e-876ebb1ecc43",
   "metadata": {},
   "outputs": [],
   "source": [
    "processed_data = []\n",
    "for line in lines[1:]:\n",
    "    processed_row = convert_data(line)\n",
    "    processed_data.append(processed_row)"
   ]
  },
  {
   "cell_type": "code",
   "execution_count": 50,
   "id": "27a60b6e-5705-4059-8290-caf6b6d76641",
   "metadata": {},
   "outputs": [
    {
     "data": {
      "text/plain": [
       "(1680, 827, 1830)"
      ]
     },
     "execution_count": 50,
     "metadata": {},
     "output_type": "execute_result"
    }
   ],
   "source": [
    "list_length_39 = []\n",
    "list_length_38 = []\n",
    "list_other_lengths = []\n",
    "\n",
    "for sublist in processed_data:\n",
    "    if len(sublist) == 39:\n",
    "        list_length_39.append(sublist)\n",
    "    elif len(sublist) == 38:\n",
    "        list_length_38.append(sublist)\n",
    "    else:\n",
    "        list_other_lengths.append(sublist)\n",
    "        \n",
    "len(list_other_lengths), len(list_length_39) , len(list_length_38)"
   ]
  },
  {
   "cell_type": "code",
   "execution_count": 51,
   "id": "b0f2ab4d-0649-43a9-8d70-75033512f8a6",
   "metadata": {},
   "outputs": [],
   "source": [
    "for i in range(len(list_length_39)):\n",
    "    if type(list_length_39[i][-2]) == str and type(list_length_39[i][-3]) == str:\n",
    "        del list_length_39[i][-2]\n",
    "\n",
    "for sublist in list_length_39:\n",
    "    assert len(sublist) == 38, f\"List at index {list_length_39.index(sublist)} does not have length 38\""
   ]
  },
  {
   "cell_type": "code",
   "execution_count": 52,
   "id": "fce79c30-6c83-4bc3-87a1-44b4bcb202d5",
   "metadata": {},
   "outputs": [
    {
     "data": {
      "text/plain": [
       "(1680, 827, 1830)"
      ]
     },
     "execution_count": 52,
     "metadata": {},
     "output_type": "execute_result"
    }
   ],
   "source": [
    "for i in range(len(list_other_lengths)):\n",
    "    if type(list_other_lengths[i][-2]) == str and type(list_other_lengths[i][-3]) == str:\n",
    "        del list_other_lengths[i][-2]\n",
    "\n",
    "list_other_lengths = [sublist for sublist in list_other_lengths if len(sublist) != 38 or list_length_38.append(sublist)]\n",
    "\n",
    "len(list_other_lengths), len(list_length_39) , len(list_length_38)"
   ]
  },
  {
   "cell_type": "code",
   "execution_count": 53,
   "id": "dac0a302-4c3b-433c-b020-d4bb3263ea15",
   "metadata": {},
   "outputs": [
    {
     "name": "stdout",
     "output_type": "stream",
     "text": [
      "1629\n"
     ]
    }
   ],
   "source": [
    "list_other_lengths[0]\n",
    "cnt = 0\n",
    "for i in list_other_lengths:\n",
    "    if(len(i)) == 39:\n",
    "        cnt = cnt+1\n",
    "print(cnt)"
   ]
  },
  {
   "cell_type": "code",
   "execution_count": 54,
   "id": "a001c852-4438-444d-b588-582bfa6487c6",
   "metadata": {},
   "outputs": [
    {
     "data": {
      "text/plain": [
       "(51, 827, 1830, 1629)"
      ]
     },
     "execution_count": 54,
     "metadata": {},
     "output_type": "execute_result"
    }
   ],
   "source": [
    "another_39_list = []\n",
    "list_other_lengths = [sublist for sublist in list_other_lengths if len(sublist) != 39 or another_39_list.append(sublist)]\n",
    "len(list_other_lengths), len(list_length_39) , len(list_length_38), len(another_39_list)"
   ]
  },
  {
   "cell_type": "code",
   "execution_count": 55,
   "id": "3d98465a-0e8d-48b9-801d-fac12ea466d4",
   "metadata": {},
   "outputs": [
    {
     "data": {
      "text/plain": [
       "-1.0"
      ]
     },
     "execution_count": 55,
     "metadata": {},
     "output_type": "execute_result"
    }
   ],
   "source": [
    "another_39_list[0][16]"
   ]
  },
  {
   "cell_type": "code",
   "execution_count": 56,
   "id": "248b1a9f-30da-4dd6-a96c-999cdc576a96",
   "metadata": {},
   "outputs": [],
   "source": [
    "for sublist in another_39_list:\n",
    "    if isinstance(sublist[15], str) and isinstance(sublist[16], str):\n",
    "        sublist[15] = sublist[15] + sublist[16]\n",
    "        del sublist[16]\n",
    "        "
   ]
  },
  {
   "cell_type": "code",
   "execution_count": 57,
   "id": "fe1479fe-2d02-4f94-a644-276746a1cc67",
   "metadata": {},
   "outputs": [],
   "source": [
    "for sublist in another_39_list:\n",
    "    if isinstance(sublist[18], str) and isinstance(sublist[19], str) and len(sublist) == 39:\n",
    "        sublist[18] = sublist[18] + sublist[19]\n",
    "        del sublist[19]\n",
    "\n",
    "for sublist in another_39_list:\n",
    "    assert len(sublist) == 38, f\"List at index {list_length_39.index(sublist)} does not have length 38\""
   ]
  },
  {
   "cell_type": "code",
   "execution_count": 58,
   "id": "f16ba765-889b-4af9-be65-bdff6bf9f701",
   "metadata": {},
   "outputs": [],
   "source": [
    "for sublist in list_other_lengths:\n",
    "        sublist[15] = sublist[15] + sublist[16]\n",
    "        sublist[19] = sublist[19] + sublist[20]\n",
    "        del sublist[16]\n",
    "        del sublist[19]\n",
    "\n",
    "list_other_lengths = [sublist for sublist in list_other_lengths if len(sublist) != 38 or list_length_38.append(sublist)]"
   ]
  },
  {
   "cell_type": "code",
   "execution_count": 59,
   "id": "7fa4c24d-5513-432c-b994-7e8be530e5ac",
   "metadata": {},
   "outputs": [
    {
     "name": "stdout",
     "output_type": "stream",
     "text": [
      "0 827 1881 1629\n"
     ]
    }
   ],
   "source": [
    "print(len(list_other_lengths), len(list_length_39) , len(list_length_38), len(another_39_list))\n",
    "for sublist in list_length_38:\n",
    "    assert len(sublist) == 38, f\"List at index {list_length_39.index(sublist)} does not have length 38\"\n",
    "for sublist in list_length_39:\n",
    "    assert len(sublist) == 38, f\"List at index {list_length_39.index(sublist)} does not have length 38\"\n",
    "for sublist in another_39_list:\n",
    "    assert len(sublist) == 38, f\"List at index {list_length_39.index(sublist)} does not have length 38\""
   ]
  },
  {
   "cell_type": "code",
   "execution_count": 60,
   "id": "c41371d7-81b9-4179-b8a6-2bd1c15f3172",
   "metadata": {},
   "outputs": [
    {
     "name": "stdout",
     "output_type": "stream",
     "text": [
      "0 827 1881 1629\n"
     ]
    }
   ],
   "source": [
    "print(len(list_other_lengths), len(list_length_39) , len(list_length_38), len(another_39_list))"
   ]
  },
  {
   "cell_type": "code",
   "execution_count": 61,
   "id": "08d16a8d-2169-487e-bf03-3468ee82230e",
   "metadata": {},
   "outputs": [],
   "source": [
    "combined_list = list_length_39 + list_length_38 + another_39_list\n",
    "df_spam = pd.DataFrame(combined_list)\n",
    "header[0] = 'Country_Name'\n",
    "df_spam.columns = header\n",
    "df_spam.replace('nan', np.nan, inplace=True)\n",
    "df_spam = df_spam[column_order]"
   ]
  },
  {
   "cell_type": "code",
   "execution_count": 62,
   "id": "49477859-03b0-45e2-82b1-305f3869ca14",
   "metadata": {},
   "outputs": [
    {
     "data": {
      "text/plain": [
       "-1.0"
      ]
     },
     "execution_count": 62,
     "metadata": {},
     "output_type": "execute_result"
    }
   ],
   "source": [
    "df_spam['Page_Rank'][10]"
   ]
  },
  {
   "cell_type": "code",
   "execution_count": 63,
   "id": "8fb472e1-e735-49e8-a728-fa69b05a7bb1",
   "metadata": {},
   "outputs": [
    {
     "data": {
      "text/plain": [
       "Index([], dtype='int64')"
      ]
     },
     "execution_count": 63,
     "metadata": {},
     "output_type": "execute_result"
    }
   ],
   "source": [
    "non_int_indices = df_spam.index[\n",
    "    ~df_spam['Page_Rank'].apply(lambda x: isinstance(x, float)) & df_spam['Page_Rank'].notna()\n",
    "]\n",
    "non_int_indices\n"
   ]
  },
  {
   "cell_type": "code",
   "execution_count": 64,
   "id": "d2f487b4-b5ee-47e7-b001-a36b33fc489f",
   "metadata": {},
   "outputs": [],
   "source": [
    "df_spam['Domain_Age'] = df_spam['Domain_Age'].str.replace(' days', '')\n",
    "df_spam['Domain_Age'] = pd.to_numeric(df_spam['Domain_Age'], errors='coerce').astype('Int64')"
   ]
  },
  {
   "cell_type": "code",
   "execution_count": 65,
   "id": "4a258e28-37f4-47d7-b0e4-006c3ac5db3d",
   "metadata": {},
   "outputs": [
    {
     "name": "stdout",
     "output_type": "stream",
     "text": [
      "<class 'pandas.core.frame.DataFrame'>\n",
      "RangeIndex: 4337 entries, 0 to 4336\n",
      "Data columns (total 38 columns):\n",
      " #   Column              Non-Null Count  Dtype  \n",
      "---  ------              --------------  -----  \n",
      " 0   Country_Name        3490 non-null   object \n",
      " 1   ASN                 3490 non-null   float64\n",
      " 2   TTL                 4337 non-null   int64  \n",
      " 3   IP                  3587 non-null   object \n",
      " 4   Domain              4337 non-null   object \n",
      " 5   oc_8                4337 non-null   int64  \n",
      " 6   longest_word        4337 non-null   object \n",
      " 7   Domain_Name         2627 non-null   object \n",
      " 8   dec_32              4337 non-null   int64  \n",
      " 9   subdomain           4337 non-null   int64  \n",
      " 10  sld                 4337 non-null   object \n",
      " 11  Registrant_Name     20 non-null     object \n",
      " 12  hex_32              4337 non-null   int64  \n",
      " 13  Domain_Age          2507 non-null   Int64  \n",
      " 14  entropy             4337 non-null   float64\n",
      " 15  Name_Server_Count   3145 non-null   float64\n",
      " 16  Emails              2197 non-null   object \n",
      " 17  Creation_Date_Time  2507 non-null   object \n",
      " 18  Organization        1840 non-null   object \n",
      " 19  char_distribution   4337 non-null   object \n",
      " 20  2gram               4337 non-null   object \n",
      " 21  State               1919 non-null   object \n",
      " 22  oc_32               4337 non-null   int64  \n",
      " 23  Country             2039 non-null   object \n",
      " 24  Page_Rank           3145 non-null   float64\n",
      " 25  hex_8               4337 non-null   int64  \n",
      " 26  dec_8               4337 non-null   int64  \n",
      " 27  1gram               4337 non-null   object \n",
      " 28  len                 4337 non-null   int64  \n",
      " 29  typos               4337 non-null   object \n",
      " 30  tld                 4337 non-null   object \n",
      " 31  shortened           4337 non-null   int64  \n",
      " 32  Registrar           2487 non-null   object \n",
      " 33  obfuscate_at_sign   4337 non-null   int64  \n",
      " 34  Alexa_Rank          3145 non-null   float64\n",
      " 35  3gram               4337 non-null   object \n",
      " 36  numeric_percentage  4337 non-null   float64\n",
      " 37  puny_coded          4337 non-null   int64  \n",
      "dtypes: Int64(1), float64(6), int64(12), object(19)\n",
      "memory usage: 1.3+ MB\n"
     ]
    }
   ],
   "source": [
    "df_spam.info()"
   ]
  },
  {
   "cell_type": "code",
   "execution_count": 66,
   "id": "fab65a2b-947d-458b-990b-23e2c8751a1b",
   "metadata": {},
   "outputs": [
    {
     "data": {
      "text/html": [
       "<div>\n",
       "<style scoped>\n",
       "    .dataframe tbody tr th:only-of-type {\n",
       "        vertical-align: middle;\n",
       "    }\n",
       "\n",
       "    .dataframe tbody tr th {\n",
       "        vertical-align: top;\n",
       "    }\n",
       "\n",
       "    .dataframe thead th {\n",
       "        text-align: right;\n",
       "    }\n",
       "</style>\n",
       "<table border=\"1\" class=\"dataframe\">\n",
       "  <thead>\n",
       "    <tr style=\"text-align: right;\">\n",
       "      <th></th>\n",
       "      <th>Country_Name</th>\n",
       "      <th>ASN</th>\n",
       "      <th>TTL</th>\n",
       "      <th>IP</th>\n",
       "      <th>Domain</th>\n",
       "      <th>oc_8</th>\n",
       "      <th>longest_word</th>\n",
       "      <th>Domain_Name</th>\n",
       "      <th>dec_32</th>\n",
       "      <th>subdomain</th>\n",
       "      <th>...</th>\n",
       "      <th>len</th>\n",
       "      <th>typos</th>\n",
       "      <th>tld</th>\n",
       "      <th>shortened</th>\n",
       "      <th>Registrar</th>\n",
       "      <th>obfuscate_at_sign</th>\n",
       "      <th>Alexa_Rank</th>\n",
       "      <th>3gram</th>\n",
       "      <th>numeric_percentage</th>\n",
       "      <th>puny_coded</th>\n",
       "    </tr>\n",
       "  </thead>\n",
       "  <tbody>\n",
       "    <tr>\n",
       "      <th>0</th>\n",
       "      <td>US</td>\n",
       "      <td>22612.0</td>\n",
       "      <td>1</td>\n",
       "      <td>198.54.112.216</td>\n",
       "      <td>b'5805.scenbe.com.'</td>\n",
       "      <td>0</td>\n",
       "      <td>be</td>\n",
       "      <td>SCENBE.COM</td>\n",
       "      <td>0</td>\n",
       "      <td>1</td>\n",
       "      <td>...</td>\n",
       "      <td>11</td>\n",
       "      <td>[(qq.com, 86), (vk.com, 86)]</td>\n",
       "      <td>com</td>\n",
       "      <td>-1</td>\n",
       "      <td>UNIREGISTRAR CORP</td>\n",
       "      <td>0</td>\n",
       "      <td>-1.0</td>\n",
       "      <td>[sce, cen, enb, nbe]</td>\n",
       "      <td>23.529412</td>\n",
       "      <td>0</td>\n",
       "    </tr>\n",
       "    <tr>\n",
       "      <th>1</th>\n",
       "      <td>EE</td>\n",
       "      <td>202759.0</td>\n",
       "      <td>599</td>\n",
       "      <td>185.155.96.63</td>\n",
       "      <td>b'allyncoralyn.ru.'</td>\n",
       "      <td>0</td>\n",
       "      <td>coral</td>\n",
       "      <td>ALLYNCORALYN.RU</td>\n",
       "      <td>0</td>\n",
       "      <td>0</td>\n",
       "      <td>...</td>\n",
       "      <td>13</td>\n",
       "      <td>[(yandex.ru, 86), (mail.ru, 86)]</td>\n",
       "      <td>ru</td>\n",
       "      <td>-1</td>\n",
       "      <td>R01-RU</td>\n",
       "      <td>0</td>\n",
       "      <td>-1.0</td>\n",
       "      <td>[all, lly, lyn, ync, nco, cor, ora, ral, aly, ...</td>\n",
       "      <td>0.000000</td>\n",
       "      <td>0</td>\n",
       "    </tr>\n",
       "    <tr>\n",
       "      <th>2</th>\n",
       "      <td>RU</td>\n",
       "      <td>8342.0</td>\n",
       "      <td>10799</td>\n",
       "      <td>195.161.41.33</td>\n",
       "      <td>b'alrayedtravel.com.'</td>\n",
       "      <td>0</td>\n",
       "      <td>travel</td>\n",
       "      <td>ALRAYEDTRAVEL.COM</td>\n",
       "      <td>0</td>\n",
       "      <td>0</td>\n",
       "      <td>...</td>\n",
       "      <td>14</td>\n",
       "      <td>[(twitter.com, 86), (google.com, 86)]</td>\n",
       "      <td>com</td>\n",
       "      <td>-1</td>\n",
       "      <td>Registrar of domain names REG.RU LLC</td>\n",
       "      <td>0</td>\n",
       "      <td>-1.0</td>\n",
       "      <td>[alr, lra, ray, aye, yed, edt, dtr, tra, rav, ...</td>\n",
       "      <td>0.000000</td>\n",
       "      <td>0</td>\n",
       "    </tr>\n",
       "    <tr>\n",
       "      <th>3</th>\n",
       "      <td>EE</td>\n",
       "      <td>202759.0</td>\n",
       "      <td>599</td>\n",
       "      <td>185.155.96.63</td>\n",
       "      <td>b'annaliesefayre.ru.'</td>\n",
       "      <td>0</td>\n",
       "      <td>liese</td>\n",
       "      <td>ANNALIESEFAYRE.RU</td>\n",
       "      <td>0</td>\n",
       "      <td>0</td>\n",
       "      <td>...</td>\n",
       "      <td>15</td>\n",
       "      <td>[(yandex.ru, 86), (mail.ru, 86)]</td>\n",
       "      <td>ru</td>\n",
       "      <td>-1</td>\n",
       "      <td>R01-RU</td>\n",
       "      <td>0</td>\n",
       "      <td>-1.0</td>\n",
       "      <td>[ann, nna, nal, ali, lie, ies, ese, sef, efa, ...</td>\n",
       "      <td>0.000000</td>\n",
       "      <td>0</td>\n",
       "    </tr>\n",
       "    <tr>\n",
       "      <th>4</th>\n",
       "      <td>US</td>\n",
       "      <td>33387.0</td>\n",
       "      <td>21599</td>\n",
       "      <td>192.151.158.114</td>\n",
       "      <td>b'avisosindustriales.me.'</td>\n",
       "      <td>0</td>\n",
       "      <td>industrial</td>\n",
       "      <td>AVISOSINDUSTRIALES.ME</td>\n",
       "      <td>0</td>\n",
       "      <td>0</td>\n",
       "      <td>...</td>\n",
       "      <td>19</td>\n",
       "      <td>[(line.me, 86), (wp.me, 86)]</td>\n",
       "      <td>me</td>\n",
       "      <td>-1</td>\n",
       "      <td>Instra Corporation Pty Ltd.</td>\n",
       "      <td>0</td>\n",
       "      <td>-1.0</td>\n",
       "      <td>[avi, vis, iso, sos, osi, sin, ind, ndu, dus, ...</td>\n",
       "      <td>0.000000</td>\n",
       "      <td>0</td>\n",
       "    </tr>\n",
       "  </tbody>\n",
       "</table>\n",
       "<p>5 rows × 38 columns</p>\n",
       "</div>"
      ],
      "text/plain": [
       "  Country_Name       ASN    TTL               IP                     Domain  \\\n",
       "0           US   22612.0      1   198.54.112.216        b'5805.scenbe.com.'   \n",
       "1           EE  202759.0    599    185.155.96.63        b'allyncoralyn.ru.'   \n",
       "2           RU    8342.0  10799    195.161.41.33      b'alrayedtravel.com.'   \n",
       "3           EE  202759.0    599    185.155.96.63      b'annaliesefayre.ru.'   \n",
       "4           US   33387.0  21599  192.151.158.114  b'avisosindustriales.me.'   \n",
       "\n",
       "   oc_8 longest_word            Domain_Name  dec_32  subdomain  ... len  \\\n",
       "0     0           be             SCENBE.COM       0          1  ...  11   \n",
       "1     0        coral        ALLYNCORALYN.RU       0          0  ...  13   \n",
       "2     0       travel      ALRAYEDTRAVEL.COM       0          0  ...  14   \n",
       "3     0        liese      ANNALIESEFAYRE.RU       0          0  ...  15   \n",
       "4     0   industrial  AVISOSINDUSTRIALES.ME       0          0  ...  19   \n",
       "\n",
       "                                   typos  tld  shortened  \\\n",
       "0           [(qq.com, 86), (vk.com, 86)]  com         -1   \n",
       "1       [(yandex.ru, 86), (mail.ru, 86)]   ru         -1   \n",
       "2  [(twitter.com, 86), (google.com, 86)]  com         -1   \n",
       "3       [(yandex.ru, 86), (mail.ru, 86)]   ru         -1   \n",
       "4           [(line.me, 86), (wp.me, 86)]   me         -1   \n",
       "\n",
       "                              Registrar  obfuscate_at_sign Alexa_Rank  \\\n",
       "0                     UNIREGISTRAR CORP                  0       -1.0   \n",
       "1                                R01-RU                  0       -1.0   \n",
       "2  Registrar of domain names REG.RU LLC                  0       -1.0   \n",
       "3                                R01-RU                  0       -1.0   \n",
       "4           Instra Corporation Pty Ltd.                  0       -1.0   \n",
       "\n",
       "                                               3gram numeric_percentage  \\\n",
       "0                               [sce, cen, enb, nbe]          23.529412   \n",
       "1  [all, lly, lyn, ync, nco, cor, ora, ral, aly, ...           0.000000   \n",
       "2  [alr, lra, ray, aye, yed, edt, dtr, tra, rav, ...           0.000000   \n",
       "3  [ann, nna, nal, ali, lie, ies, ese, sef, efa, ...           0.000000   \n",
       "4  [avi, vis, iso, sos, osi, sin, ind, ndu, dus, ...           0.000000   \n",
       "\n",
       "  puny_coded  \n",
       "0          0  \n",
       "1          0  \n",
       "2          0  \n",
       "3          0  \n",
       "4          0  \n",
       "\n",
       "[5 rows x 38 columns]"
      ]
     },
     "execution_count": 66,
     "metadata": {},
     "output_type": "execute_result"
    }
   ],
   "source": [
    "df_spam.head()"
   ]
  },
  {
   "cell_type": "code",
   "execution_count": 67,
   "id": "263f0270-96aa-41d6-966a-fbc6466c7eed",
   "metadata": {},
   "outputs": [],
   "source": [
    "df_spam.to_csv('modified_spam.csv',index=False)"
   ]
  },
  {
   "cell_type": "markdown",
   "id": "586e8045-2f46-453b-a050-693b916c507b",
   "metadata": {},
   "source": [
    "# Phishing"
   ]
  },
  {
   "cell_type": "code",
   "execution_count": 68,
   "id": "6e904167-08c0-4c7d-bf77-61638fac00b2",
   "metadata": {},
   "outputs": [],
   "source": [
    "with open(\"CSV_phishing.csv\", 'r') as file:\n",
    "    lines = file.readlines()\n",
    "header = convert_data(lines[0])"
   ]
  },
  {
   "cell_type": "code",
   "execution_count": 69,
   "id": "91999e91-2fbd-4435-ba6c-96a4b9a26c0a",
   "metadata": {},
   "outputs": [],
   "source": [
    "processed_data = []\n",
    "for line in lines[1:]:\n",
    "    processed_row = convert_data(line)\n",
    "    processed_data.append(processed_row)"
   ]
  },
  {
   "cell_type": "code",
   "execution_count": 70,
   "id": "c2b587df-0c1f-4c39-80f3-8b2e51a97e63",
   "metadata": {},
   "outputs": [
    {
     "data": {
      "text/plain": [
       "(2029, 1188, 1784)"
      ]
     },
     "execution_count": 70,
     "metadata": {},
     "output_type": "execute_result"
    }
   ],
   "source": [
    "list_length_39 = []\n",
    "list_length_38 = []\n",
    "list_other_lengths = []\n",
    "\n",
    "for sublist in processed_data:\n",
    "    if len(sublist) == 39:\n",
    "        list_length_39.append(sublist)\n",
    "    elif len(sublist) == 38:\n",
    "        list_length_38.append(sublist)\n",
    "    else:\n",
    "        list_other_lengths.append(sublist)\n",
    "        \n",
    "len(list_other_lengths), len(list_length_39) , len(list_length_38)"
   ]
  },
  {
   "cell_type": "code",
   "execution_count": 71,
   "id": "12edd0ed-c899-4f53-94c6-cbbd755b1f62",
   "metadata": {},
   "outputs": [],
   "source": [
    "i_in_39 = [953, 954, 1011, 1012, 1013, 1014, 1015]"
   ]
  },
  {
   "cell_type": "code",
   "execution_count": 72,
   "id": "6342ef7d-1c69-4526-b8aa-fae63e598c49",
   "metadata": {},
   "outputs": [],
   "source": [
    "for x in i_in_39:\n",
    "    list_length_39[x][27] = list_length_39[x][27] + list_length_39[x][28]\n",
    "    del list_length_39[x][28]\n",
    "    "
   ]
  },
  {
   "cell_type": "code",
   "execution_count": 73,
   "id": "d066a1f9-f70a-4e02-a33c-46562ee4fd5b",
   "metadata": {},
   "outputs": [
    {
     "data": {
      "text/plain": [
       "(2029, 1181, 1791)"
      ]
     },
     "execution_count": 73,
     "metadata": {},
     "output_type": "execute_result"
    }
   ],
   "source": [
    "list_length_39 = [sublist for sublist in list_length_39 if len(sublist) == 39 or list_length_38.append(sublist)]\n",
    "len(list_other_lengths), len(list_length_39) , len(list_length_38)"
   ]
  },
  {
   "cell_type": "code",
   "execution_count": 74,
   "id": "2d4c50b9-735a-4c27-9b5b-eb742424b1c2",
   "metadata": {},
   "outputs": [],
   "source": [
    "for i in range(len(list_length_39)):\n",
    "    if(list_length_39[i][6] != 'nan'):\n",
    "        del list_length_39[i][7]\n",
    "\n",
    "for sublist in list_length_39:\n",
    "    assert len(sublist) == 38, f\"List at index {list_length_39.index(sublist)} does not have length 38\""
   ]
  },
  {
   "cell_type": "code",
   "execution_count": 75,
   "id": "8a111779-2d4b-4260-a647-79f025550c0f",
   "metadata": {},
   "outputs": [],
   "source": [
    "for i in range(len(list_other_lengths)):\n",
    "    if(list_other_lengths[i][6] != 'nan'):\n",
    "        del list_other_lengths[i][7]"
   ]
  },
  {
   "cell_type": "code",
   "execution_count": 76,
   "id": "e0c843d6-8c00-4a54-9d0d-9fde2a6fbe6a",
   "metadata": {},
   "outputs": [
    {
     "data": {
      "text/plain": [
       "(2029, 1181, 1791)"
      ]
     },
     "execution_count": 76,
     "metadata": {},
     "output_type": "execute_result"
    }
   ],
   "source": [
    "len(list_other_lengths), len(list_length_39) , len(list_length_38)"
   ]
  },
  {
   "cell_type": "code",
   "execution_count": 77,
   "id": "bd271790-5de2-4fd4-828c-60a3e9d2429b",
   "metadata": {},
   "outputs": [
    {
     "data": {
      "text/plain": [
       "(367, 1181, 1791, 1662)"
      ]
     },
     "execution_count": 77,
     "metadata": {},
     "output_type": "execute_result"
    }
   ],
   "source": [
    "another_39_list = []\n",
    "list_other_lengths = [sublist for sublist in list_other_lengths if len(sublist) != 39 or another_39_list.append(sublist)]\n",
    "len(list_other_lengths), len(list_length_39) , len(list_length_38), len(another_39_list)"
   ]
  },
  {
   "cell_type": "code",
   "execution_count": 78,
   "id": "b5f2c131-67de-4959-8277-b712733d86b0",
   "metadata": {},
   "outputs": [],
   "source": [
    "id = [1, 2, 9, 10, 21, 27, 28, 30, 31, 40, 41, 42, 43, 44, 76, 77, 78, 79, 92, 104, 105, 106, 107, 109, 110, 111, 112, 113, \n",
    "      115, 116, 117, 118, 119, 120, 121, 122, 123, 124, 125, 126, 127, 128, 129, 130, 131, 132, 133, 134, 135, 136, 137, \n",
    "      138, 139, 140, 141, 142, 143, 144, 195, 216, 225, 226, 227, 229, 230, 233, 234, 262, 263, 266, 348, 349, 351, 352,\n",
    "      372, 394, 395, 396, 397, 398, 399, 400, 401, 403, 404, 418, 420, 421, 430, 431, 445, 449, 487, 501, 503, 507, 508,\n",
    "      512, 517, 522, 523, 529, 530, 537, 570, 596, 597, 630, 634, 639, 677, 678, 697, 698, 699, 700, 701, 702, 704, 708, 709,\n",
    "      714, 771, 772, 773, 774, 775, 777, 778, 779, 781, 785, 787, 790, 793, 794, 801, 808, 809, 818, 819, 830, 835, 836, 838, \n",
    "      839, 840, 842, 844, 845, 847, 890, 926, 927, 928, 930, 931, 937, 944, 967, 981, 982, 983, 1018, 1019, 1020, 1021, 1030,\n",
    "      1031, 1037, 1038, 1045, 1046, 1047, 1048, 1049, 1051, 1052, 1053, 1056, 1064, 1066, 1091, 1106, 1111, 1114, 1115, 1116,\n",
    "      1118, 1152, 1156, 1157, 1159, 1160, 1161, 1162, 1164, 1186, 1226,1228, 1229, 1290, 1320, 1321, 1325, 1333, 1360, 1473, 1499, \n",
    "      1507, 1508, 1529, 1536, 1541, 1573, 1578, 1579, 1641]\n"
   ]
  },
  {
   "cell_type": "code",
   "execution_count": 79,
   "id": "9d004a0a-20c3-4372-aa28-3bbfee10cf69",
   "metadata": {},
   "outputs": [],
   "source": [
    "for i in sorted(id, reverse=True):\n",
    "    another_39_list[i][16] = another_39_list[i][16] + another_39_list[i][17]  \n",
    "    del another_39_list[i][17]  \n",
    "    list_length_38.append(another_39_list[i])  \n",
    "    del another_39_list[i]  "
   ]
  },
  {
   "cell_type": "code",
   "execution_count": 80,
   "id": "2fc0854d-9860-4403-9e72-230dcabd753c",
   "metadata": {},
   "outputs": [
    {
     "data": {
      "text/plain": [
       "(367, 1181, 2009, 1444)"
      ]
     },
     "execution_count": 80,
     "metadata": {},
     "output_type": "execute_result"
    }
   ],
   "source": [
    "len(list_other_lengths), len(list_length_39) , len(list_length_38), len(another_39_list)"
   ]
  },
  {
   "cell_type": "code",
   "execution_count": 81,
   "id": "76177886-cbfb-4ded-8227-516f114c8341",
   "metadata": {},
   "outputs": [
    {
     "name": "stdout",
     "output_type": "stream",
     "text": [
      "56\n"
     ]
    }
   ],
   "source": [
    "cnt = 0\n",
    "for sublist in another_39_list:\n",
    "   \n",
    "    if isinstance(sublist[16], str) and isinstance(sublist[17], str) and isinstance(sublist[18], str) and isinstance(sublist[19], str) and isinstance(sublist[20], int):\n",
    "   \n",
    "        cnt = cnt + 1\n",
    "        sublist[16] = sublist[16] + sublist[17]\n",
    "        del sublist[17]\n",
    "print(cnt)"
   ]
  },
  {
   "cell_type": "code",
   "execution_count": 82,
   "id": "57753b95-50c6-438f-848a-b9a07d50b9f9",
   "metadata": {},
   "outputs": [
    {
     "data": {
      "text/plain": [
       "(367, 1181, 2065, 1388)"
      ]
     },
     "execution_count": 82,
     "metadata": {},
     "output_type": "execute_result"
    }
   ],
   "source": [
    "another_39_list = [sublist for sublist in another_39_list if len(sublist) != 38 or list_length_38.append(sublist)]\n",
    "len(list_other_lengths), len(list_length_39) , len(list_length_38), len(another_39_list)"
   ]
  },
  {
   "cell_type": "code",
   "execution_count": 83,
   "id": "54eb4f1e-56a7-4657-ae5b-ca256afd66e5",
   "metadata": {},
   "outputs": [
    {
     "data": {
      "text/plain": [
       "(367, 1181, 3429, 24)"
      ]
     },
     "execution_count": 83,
     "metadata": {},
     "output_type": "execute_result"
    }
   ],
   "source": [
    "for sublist in another_39_list:\n",
    "    # print(sublist[27],sublist[28],sublist[27]\n",
    "    if isinstance(sublist[27], str) and isinstance(sublist[28], str) and isinstance(sublist[29], int):\n",
    "        # print(\"k\")\n",
    "        sublist[27] = sublist[27] + sublist[28]\n",
    "        del sublist[28]\n",
    "\n",
    "another_39_list = [sublist for sublist in another_39_list if len(sublist) != 38 or list_length_38.append(sublist)]\n",
    "len(list_other_lengths), len(list_length_39) , len(list_length_38), len(another_39_list)"
   ]
  },
  {
   "cell_type": "code",
   "execution_count": 84,
   "id": "39be220d-8e7f-43eb-8dda-b0826ee91e3e",
   "metadata": {},
   "outputs": [
    {
     "data": {
      "text/plain": [
       "(367, 1181, 3453, 0)"
      ]
     },
     "execution_count": 84,
     "metadata": {},
     "output_type": "execute_result"
    }
   ],
   "source": [
    "for sublist in another_39_list:\n",
    "    # print(sublist[27],sublist[28],sublist[27]\n",
    "    if sublist[27] == 75500:\n",
    "        # print(\"k\")\n",
    "        k = str(sublist[27])\n",
    "        sublist[26] = sublist[26] + k\n",
    "        # print(sublist[26])\n",
    "        del sublist[27]\n",
    "another_39_list = [sublist for sublist in another_39_list if len(sublist) != 38 or list_length_38.append(sublist)]\n",
    "len(list_other_lengths), len(list_length_39) , len(list_length_38), len(another_39_list)"
   ]
  },
  {
   "cell_type": "code",
   "execution_count": 85,
   "id": "0da51c0f-805c-440b-92d4-adb296969250",
   "metadata": {},
   "outputs": [
    {
     "data": {
      "text/plain": [
       "(367, 0)"
      ]
     },
     "execution_count": 85,
     "metadata": {},
     "output_type": "execute_result"
    }
   ],
   "source": [
    "cnt1 = 0\n",
    "cnt2 = 0\n",
    "for i in list_other_lengths:\n",
    "    if(len(i) == 40):\n",
    "        cnt1 = cnt1 + 1\n",
    "    elif(len(i)==41):\n",
    "        cnt2 = cnt2 + 1\n",
    "cnt1,cnt2"
   ]
  },
  {
   "cell_type": "code",
   "execution_count": 86,
   "id": "cfbd4d69-7c83-4765-b4f5-7f731c971105",
   "metadata": {},
   "outputs": [
    {
     "data": {
      "text/plain": [
       "(0, 1181, 3820, 0)"
      ]
     },
     "execution_count": 86,
     "metadata": {},
     "output_type": "execute_result"
    }
   ],
   "source": [
    "for sublist in list_other_lengths:\n",
    "        sublist[16] = sublist[16] + sublist[17]\n",
    "        sublist[28] = sublist[28] + sublist[29]\n",
    "        del sublist[17]\n",
    "        del sublist[28]\n",
    "\n",
    "list_other_lengths = [sublist for sublist in list_other_lengths if len(sublist) != 38 or list_length_38.append(sublist)]\n",
    "len(list_other_lengths), len(list_length_39) , len(list_length_38), len(another_39_list)"
   ]
  },
  {
   "cell_type": "code",
   "execution_count": 87,
   "id": "f9318e58-48bc-4ea2-a641-df727af9dd18",
   "metadata": {},
   "outputs": [],
   "source": [
    "combined_list = list_length_38 + list_length_39"
   ]
  },
  {
   "cell_type": "code",
   "execution_count": 88,
   "id": "0d22896b-46b2-434e-af09-73d299a8e684",
   "metadata": {},
   "outputs": [],
   "source": [
    "combined_list\n",
    "df_phishing = pd.DataFrame(combined_list)\n",
    "header[0] = 'Country_Name'\n",
    "df_phishing.columns = header\n",
    "df_phishing.replace('nan', np.nan, inplace=True)\n",
    "df_phishing = df_phishing[column_order]"
   ]
  },
  {
   "cell_type": "code",
   "execution_count": 89,
   "id": "a921a8aa-d8fa-433a-8095-f29854541443",
   "metadata": {},
   "outputs": [],
   "source": [
    "ind = [3477, 3597, 3598, 3601, 3626, 3627, 3632, 3633, 3638, 3644, 3645, 3664,\n",
    "       3668, 3669, 3670, 3671, 3672, 3673, 3674, 3675, 3676, 3677, 3678, 3679,\n",
    "       3758, 3759, 1826, 4047, 4048, 4428, 4487, 4546,4782]"
   ]
  },
  {
   "cell_type": "code",
   "execution_count": 90,
   "id": "7c80afc8-923d-480f-9dfe-b3d92cb57857",
   "metadata": {},
   "outputs": [],
   "source": [
    "ind = [3477, 3597, 3598, 3601, 3626, 3627, 3632, 3633, 3638, 3644, 3645, 3664,\n",
    "       3668, 3669, 3670, 3671, 3672, 3673, 3674, 3675, 3676, 3677, 3678, 3679,\n",
    "       3758, 3759, 1826, 4047, 4048, 4428, 4487, 4546,4782]\n",
    "df_phishing = df_phishing.drop(ind, errors='ignore')\n"
   ]
  },
  {
   "cell_type": "code",
   "execution_count": 91,
   "id": "5a3c8214-34e8-4ca9-b08c-68a4cb1dcce7",
   "metadata": {},
   "outputs": [
    {
     "data": {
      "text/plain": [
       "Index([], dtype='int64')"
      ]
     },
     "execution_count": 91,
     "metadata": {},
     "output_type": "execute_result"
    }
   ],
   "source": [
    "non_int_indices = df_phishing.index[\n",
    "    ~df_phishing['dec_32'].apply(lambda x: isinstance(x, int)) & df_phishing['dec_32'].notna()\n",
    "]\n",
    "non_int_indices\n",
    "\n"
   ]
  },
  {
   "cell_type": "code",
   "execution_count": 92,
   "id": "43735cc0-928e-4fcd-9f8f-4c87da914b32",
   "metadata": {},
   "outputs": [],
   "source": [
    "df_phishing['Domain_Age'] = df_phishing['Domain_Age'].str.replace(' days', '')\n",
    "df_phishing['Domain_Age'] = pd.to_numeric(df_phishing['Domain_Age'], errors='coerce').astype('Int64')"
   ]
  },
  {
   "cell_type": "code",
   "execution_count": 93,
   "id": "e0bc4e60-c48c-4f4a-8258-c724537929ff",
   "metadata": {},
   "outputs": [
    {
     "name": "stdout",
     "output_type": "stream",
     "text": [
      "(4968, 38)\n"
     ]
    }
   ],
   "source": [
    "df_phishing = df_phishing[df_phishing['dec_32'].apply(lambda x: isinstance(x, int) or pd.isnull(x))]\n",
    "print(df_phishing.shape)\n"
   ]
  },
  {
   "cell_type": "code",
   "execution_count": 94,
   "id": "c1c93484-ee09-4e74-828a-1d4d5e4d4c13",
   "metadata": {},
   "outputs": [
    {
     "data": {
      "text/html": [
       "<div>\n",
       "<style scoped>\n",
       "    .dataframe tbody tr th:only-of-type {\n",
       "        vertical-align: middle;\n",
       "    }\n",
       "\n",
       "    .dataframe tbody tr th {\n",
       "        vertical-align: top;\n",
       "    }\n",
       "\n",
       "    .dataframe thead th {\n",
       "        text-align: right;\n",
       "    }\n",
       "</style>\n",
       "<table border=\"1\" class=\"dataframe\">\n",
       "  <thead>\n",
       "    <tr style=\"text-align: right;\">\n",
       "      <th></th>\n",
       "      <th>Country_Name</th>\n",
       "      <th>ASN</th>\n",
       "      <th>TTL</th>\n",
       "      <th>IP</th>\n",
       "      <th>Domain</th>\n",
       "      <th>oc_8</th>\n",
       "      <th>longest_word</th>\n",
       "      <th>Domain_Name</th>\n",
       "      <th>dec_32</th>\n",
       "      <th>subdomain</th>\n",
       "      <th>...</th>\n",
       "      <th>len</th>\n",
       "      <th>typos</th>\n",
       "      <th>tld</th>\n",
       "      <th>shortened</th>\n",
       "      <th>Registrar</th>\n",
       "      <th>obfuscate_at_sign</th>\n",
       "      <th>Alexa_Rank</th>\n",
       "      <th>3gram</th>\n",
       "      <th>numeric_percentage</th>\n",
       "      <th>puny_coded</th>\n",
       "    </tr>\n",
       "  </thead>\n",
       "  <tbody>\n",
       "  </tbody>\n",
       "</table>\n",
       "<p>0 rows × 38 columns</p>\n",
       "</div>"
      ],
      "text/plain": [
       "Empty DataFrame\n",
       "Columns: [Country_Name, ASN, TTL, IP, Domain, oc_8, longest_word, Domain_Name, dec_32, subdomain, sld, Registrant_Name, hex_32, Domain_Age, entropy, Name_Server_Count, Emails, Creation_Date_Time, Organization, char_distribution, 2gram, State, oc_32, Country, Page_Rank, hex_8, dec_8, 1gram, len, typos, tld, shortened, Registrar, obfuscate_at_sign, Alexa_Rank, 3gram, numeric_percentage, puny_coded]\n",
       "Index: []\n",
       "\n",
       "[0 rows x 38 columns]"
      ]
     },
     "execution_count": 94,
     "metadata": {},
     "output_type": "execute_result"
    }
   ],
   "source": [
    "non_int_rows = df_phishing[\n",
    "    ~df_phishing['oc_8'].apply(lambda x: isinstance(x, int)) & df_phishing['oc_8'].notna()\n",
    "]\n",
    "non_int_rows"
   ]
  },
  {
   "cell_type": "code",
   "execution_count": 95,
   "id": "97a2f80d-e755-40f2-890d-6d2e1fa3eb07",
   "metadata": {},
   "outputs": [],
   "source": [
    "df_phishing['oc_8'] = df_phishing['oc_8'].astype(int)"
   ]
  },
  {
   "cell_type": "code",
   "execution_count": 96,
   "id": "f8fc5b59-0376-43b9-9ea0-39efbace7e10",
   "metadata": {},
   "outputs": [],
   "source": [
    "df_phishing['dec_32'] = df_phishing['dec_32'].astype(int)"
   ]
  },
  {
   "cell_type": "code",
   "execution_count": 97,
   "id": "66dcdc15-c556-4926-b24f-20f6173d5823",
   "metadata": {},
   "outputs": [],
   "source": [
    "df_phishing['obfuscate_at_sign'] = df_phishing['obfuscate_at_sign'].astype(int)"
   ]
  },
  {
   "cell_type": "code",
   "execution_count": 98,
   "id": "e10872f5-92c6-43f1-909f-173bf9d7d900",
   "metadata": {},
   "outputs": [],
   "source": [
    "df_phishing['puny_coded'] = df_phishing['puny_coded'].astype(float)"
   ]
  },
  {
   "cell_type": "code",
   "execution_count": 99,
   "id": "1a47964f-d096-4c33-9f3e-4c32a20938d5",
   "metadata": {},
   "outputs": [
    {
     "name": "stdout",
     "output_type": "stream",
     "text": [
      "<class 'pandas.core.frame.DataFrame'>\n",
      "Index: 4968 entries, 0 to 5000\n",
      "Data columns (total 38 columns):\n",
      " #   Column              Non-Null Count  Dtype  \n",
      "---  ------              --------------  -----  \n",
      " 0   Country_Name        3556 non-null   object \n",
      " 1   ASN                 3556 non-null   float64\n",
      " 2   TTL                 4968 non-null   int64  \n",
      " 3   IP                  3566 non-null   object \n",
      " 4   Domain              4968 non-null   object \n",
      " 5   oc_8                4968 non-null   int64  \n",
      " 6   longest_word        4968 non-null   object \n",
      " 7   Domain_Name         3337 non-null   object \n",
      " 8   dec_32              4968 non-null   int64  \n",
      " 9   subdomain           4968 non-null   int64  \n",
      " 10  sld                 4968 non-null   object \n",
      " 11  Registrant_Name     34 non-null     object \n",
      " 12  hex_32              4968 non-null   int64  \n",
      " 13  Domain_Age          3177 non-null   Int64  \n",
      " 14  entropy             4968 non-null   float64\n",
      " 15  Name_Server_Count   3934 non-null   float64\n",
      " 16  Emails              2857 non-null   object \n",
      " 17  Creation_Date_Time  3177 non-null   object \n",
      " 18  Organization        2146 non-null   object \n",
      " 19  char_distribution   4968 non-null   object \n",
      " 20  2gram               4968 non-null   object \n",
      " 21  State               2329 non-null   object \n",
      " 22  oc_32               4968 non-null   int64  \n",
      " 23  Country             2718 non-null   object \n",
      " 24  Page_Rank           3934 non-null   float64\n",
      " 25  hex_8               4968 non-null   float64\n",
      " 26  dec_8               4968 non-null   int64  \n",
      " 27  1gram               4968 non-null   object \n",
      " 28  len                 4968 non-null   object \n",
      " 29  typos               4968 non-null   object \n",
      " 30  tld                 4968 non-null   object \n",
      " 31  shortened           4967 non-null   object \n",
      " 32  Registrar           3124 non-null   object \n",
      " 33  obfuscate_at_sign   4968 non-null   int64  \n",
      " 34  Alexa_Rank          3934 non-null   float64\n",
      " 35  3gram               4968 non-null   object \n",
      " 36  numeric_percentage  4968 non-null   object \n",
      " 37  puny_coded          4968 non-null   float64\n",
      "dtypes: Int64(1), float64(7), int64(8), object(22)\n",
      "memory usage: 1.5+ MB\n"
     ]
    }
   ],
   "source": [
    "df_phishing.info()"
   ]
  },
  {
   "cell_type": "code",
   "execution_count": 100,
   "id": "b70cd5e0-4643-48c0-9099-2c7ec99d973c",
   "metadata": {},
   "outputs": [
    {
     "data": {
      "text/html": [
       "<div>\n",
       "<style scoped>\n",
       "    .dataframe tbody tr th:only-of-type {\n",
       "        vertical-align: middle;\n",
       "    }\n",
       "\n",
       "    .dataframe tbody tr th {\n",
       "        vertical-align: top;\n",
       "    }\n",
       "\n",
       "    .dataframe thead th {\n",
       "        text-align: right;\n",
       "    }\n",
       "</style>\n",
       "<table border=\"1\" class=\"dataframe\">\n",
       "  <thead>\n",
       "    <tr style=\"text-align: right;\">\n",
       "      <th></th>\n",
       "      <th>Country_Name</th>\n",
       "      <th>ASN</th>\n",
       "      <th>TTL</th>\n",
       "      <th>IP</th>\n",
       "      <th>Domain</th>\n",
       "      <th>oc_8</th>\n",
       "      <th>longest_word</th>\n",
       "      <th>Domain_Name</th>\n",
       "      <th>dec_32</th>\n",
       "      <th>subdomain</th>\n",
       "      <th>...</th>\n",
       "      <th>len</th>\n",
       "      <th>typos</th>\n",
       "      <th>tld</th>\n",
       "      <th>shortened</th>\n",
       "      <th>Registrar</th>\n",
       "      <th>obfuscate_at_sign</th>\n",
       "      <th>Alexa_Rank</th>\n",
       "      <th>3gram</th>\n",
       "      <th>numeric_percentage</th>\n",
       "      <th>puny_coded</th>\n",
       "    </tr>\n",
       "  </thead>\n",
       "  <tbody>\n",
       "    <tr>\n",
       "      <th>0</th>\n",
       "      <td>NL</td>\n",
       "      <td>204915.0</td>\n",
       "      <td>2</td>\n",
       "      <td>145.14.145.41</td>\n",
       "      <td>b'programafidelidadeitacard2.cf.'</td>\n",
       "      <td>0</td>\n",
       "      <td>program</td>\n",
       "      <td>NaN</td>\n",
       "      <td>0</td>\n",
       "      <td>0</td>\n",
       "      <td>...</td>\n",
       "      <td>27</td>\n",
       "      <td>[(deviantart.com, 53), (canada.ca, 53)]</td>\n",
       "      <td>cf</td>\n",
       "      <td>-1.0</td>\n",
       "      <td>NaN</td>\n",
       "      <td>0</td>\n",
       "      <td>-1.0</td>\n",
       "      <td>[pro, rog, ogr, gra, ram, ama, maf, afi, fid, ...</td>\n",
       "      <td>3.225806</td>\n",
       "      <td>0.0</td>\n",
       "    </tr>\n",
       "    <tr>\n",
       "      <th>1</th>\n",
       "      <td>NaN</td>\n",
       "      <td>NaN</td>\n",
       "      <td>31</td>\n",
       "      <td>NaN</td>\n",
       "      <td>b'programafidelidadeitacard2.cf.'</td>\n",
       "      <td>0</td>\n",
       "      <td>program</td>\n",
       "      <td>NaN</td>\n",
       "      <td>0</td>\n",
       "      <td>0</td>\n",
       "      <td>...</td>\n",
       "      <td>27</td>\n",
       "      <td>[(deviantart.com, 53), (canada.ca, 53)]</td>\n",
       "      <td>cf</td>\n",
       "      <td>-1.0</td>\n",
       "      <td>NaN</td>\n",
       "      <td>0</td>\n",
       "      <td>-1.0</td>\n",
       "      <td>[pro, rog, ogr, gra, ram, ama, maf, afi, fid, ...</td>\n",
       "      <td>3.225806</td>\n",
       "      <td>0.0</td>\n",
       "    </tr>\n",
       "    <tr>\n",
       "      <th>2</th>\n",
       "      <td>NL</td>\n",
       "      <td>52000.0</td>\n",
       "      <td>199</td>\n",
       "      <td>91.224.140.71</td>\n",
       "      <td>b'gg.gg.'</td>\n",
       "      <td>0</td>\n",
       "      <td>gg</td>\n",
       "      <td>NaN</td>\n",
       "      <td>0</td>\n",
       "      <td>0</td>\n",
       "      <td>...</td>\n",
       "      <td>3</td>\n",
       "      <td>[(blogger.com, 86), (digg.com, 86)]</td>\n",
       "      <td>gg</td>\n",
       "      <td>-1.0</td>\n",
       "      <td>NaN</td>\n",
       "      <td>0</td>\n",
       "      <td>44394.0</td>\n",
       "      <td>[]</td>\n",
       "      <td>0.0</td>\n",
       "      <td>0.0</td>\n",
       "    </tr>\n",
       "    <tr>\n",
       "      <th>3</th>\n",
       "      <td>US</td>\n",
       "      <td>14618.0</td>\n",
       "      <td>59</td>\n",
       "      <td>52.71.139.107</td>\n",
       "      <td>b'split.to.'</td>\n",
       "      <td>0</td>\n",
       "      <td>split</td>\n",
       "      <td>NaN</td>\n",
       "      <td>0</td>\n",
       "      <td>0</td>\n",
       "      <td>...</td>\n",
       "      <td>6</td>\n",
       "      <td>[(t.co, 68), (slate.com, 59)]</td>\n",
       "      <td>to</td>\n",
       "      <td>-1.0</td>\n",
       "      <td>NaN</td>\n",
       "      <td>0</td>\n",
       "      <td>1801349.0</td>\n",
       "      <td>[spl, pli, lit]</td>\n",
       "      <td>0.0</td>\n",
       "      <td>0.0</td>\n",
       "    </tr>\n",
       "    <tr>\n",
       "      <th>4</th>\n",
       "      <td>NaN</td>\n",
       "      <td>NaN</td>\n",
       "      <td>59</td>\n",
       "      <td>NaN</td>\n",
       "      <td>b'split.to.'</td>\n",
       "      <td>0</td>\n",
       "      <td>split</td>\n",
       "      <td>NaN</td>\n",
       "      <td>0</td>\n",
       "      <td>0</td>\n",
       "      <td>...</td>\n",
       "      <td>6</td>\n",
       "      <td>[(t.co, 68), (slate.com, 59)]</td>\n",
       "      <td>to</td>\n",
       "      <td>-1.0</td>\n",
       "      <td>NaN</td>\n",
       "      <td>0</td>\n",
       "      <td>1801349.0</td>\n",
       "      <td>[spl, pli, lit]</td>\n",
       "      <td>0.0</td>\n",
       "      <td>0.0</td>\n",
       "    </tr>\n",
       "  </tbody>\n",
       "</table>\n",
       "<p>5 rows × 38 columns</p>\n",
       "</div>"
      ],
      "text/plain": [
       "  Country_Name       ASN  TTL             IP  \\\n",
       "0           NL  204915.0    2  145.14.145.41   \n",
       "1          NaN       NaN   31            NaN   \n",
       "2           NL   52000.0  199  91.224.140.71   \n",
       "3           US   14618.0   59  52.71.139.107   \n",
       "4          NaN       NaN   59            NaN   \n",
       "\n",
       "                              Domain  oc_8 longest_word Domain_Name  dec_32  \\\n",
       "0  b'programafidelidadeitacard2.cf.'     0      program         NaN       0   \n",
       "1  b'programafidelidadeitacard2.cf.'     0      program         NaN       0   \n",
       "2                          b'gg.gg.'     0           gg         NaN       0   \n",
       "3                       b'split.to.'     0        split         NaN       0   \n",
       "4                       b'split.to.'     0        split         NaN       0   \n",
       "\n",
       "   subdomain  ... len                                    typos  tld  \\\n",
       "0          0  ...  27  [(deviantart.com, 53), (canada.ca, 53)]   cf   \n",
       "1          0  ...  27  [(deviantart.com, 53), (canada.ca, 53)]   cf   \n",
       "2          0  ...   3      [(blogger.com, 86), (digg.com, 86)]   gg   \n",
       "3          0  ...   6            [(t.co, 68), (slate.com, 59)]   to   \n",
       "4          0  ...   6            [(t.co, 68), (slate.com, 59)]   to   \n",
       "\n",
       "   shortened  Registrar  obfuscate_at_sign Alexa_Rank  \\\n",
       "0       -1.0        NaN                  0       -1.0   \n",
       "1       -1.0        NaN                  0       -1.0   \n",
       "2       -1.0        NaN                  0    44394.0   \n",
       "3       -1.0        NaN                  0  1801349.0   \n",
       "4       -1.0        NaN                  0  1801349.0   \n",
       "\n",
       "                                               3gram numeric_percentage  \\\n",
       "0  [pro, rog, ogr, gra, ram, ama, maf, afi, fid, ...           3.225806   \n",
       "1  [pro, rog, ogr, gra, ram, ama, maf, afi, fid, ...           3.225806   \n",
       "2                                                 []                0.0   \n",
       "3                                    [spl, pli, lit]                0.0   \n",
       "4                                    [spl, pli, lit]                0.0   \n",
       "\n",
       "  puny_coded  \n",
       "0        0.0  \n",
       "1        0.0  \n",
       "2        0.0  \n",
       "3        0.0  \n",
       "4        0.0  \n",
       "\n",
       "[5 rows x 38 columns]"
      ]
     },
     "execution_count": 100,
     "metadata": {},
     "output_type": "execute_result"
    }
   ],
   "source": [
    "df_phishing.head()"
   ]
  },
  {
   "cell_type": "code",
   "execution_count": 101,
   "id": "250b5590-87df-4239-af82-712ea47d4ce3",
   "metadata": {},
   "outputs": [],
   "source": [
    "df_phishing.to_csv('modified_phishing.csv',index=False)"
   ]
  }
 ],
 "metadata": {
  "kernelspec": {
   "display_name": "Python 3 (ipykernel)",
   "language": "python",
   "name": "python3"
  },
  "language_info": {
   "codemirror_mode": {
    "name": "ipython",
    "version": 3
   },
   "file_extension": ".py",
   "mimetype": "text/x-python",
   "name": "python",
   "nbconvert_exporter": "python",
   "pygments_lexer": "ipython3",
   "version": "3.11.7"
  }
 },
 "nbformat": 4,
 "nbformat_minor": 5
}
